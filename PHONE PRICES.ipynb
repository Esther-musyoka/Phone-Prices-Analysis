{
 "cells": [
  {
   "cell_type": "markdown",
   "id": "a8ae67a5",
   "metadata": {},
   "source": [
    "# importing libraries and datasets"
   ]
  },
  {
   "cell_type": "code",
   "execution_count": 1,
   "id": "c6fedf6a",
   "metadata": {},
   "outputs": [],
   "source": [
    "import pandas as pd\n",
    "import numpy as np\n",
    "import matplotlib.pyplot as plt\n",
    "import seaborn as sns\n",
    "df1=pd.read_csv(r'C:\\Users\\Naibei_jr\\Desktop\\ANACONDA SCRIPTS\\Phone price in kenya/PhonesPriceInKenya.csv')\n",
    "df2=pd.read_csv(r'C:\\Users\\Naibei_jr\\Desktop\\ANACONDA SCRIPTS\\Phone price in kenya/PhonesPriceInKenya_v2.csv')"
   ]
  },
  {
   "cell_type": "code",
   "execution_count": 2,
   "id": "4e695817",
   "metadata": {},
   "outputs": [
    {
     "data": {
      "text/html": [
       "<div>\n",
       "<style scoped>\n",
       "    .dataframe tbody tr th:only-of-type {\n",
       "        vertical-align: middle;\n",
       "    }\n",
       "\n",
       "    .dataframe tbody tr th {\n",
       "        vertical-align: top;\n",
       "    }\n",
       "\n",
       "    .dataframe thead th {\n",
       "        text-align: right;\n",
       "    }\n",
       "</style>\n",
       "<table border=\"1\" class=\"dataframe\">\n",
       "  <thead>\n",
       "    <tr style=\"text-align: right;\">\n",
       "      <th></th>\n",
       "      <th>Phone Title</th>\n",
       "      <th>Specs</th>\n",
       "      <th>Price(Kshs)</th>\n",
       "      <th>Rating</th>\n",
       "      <th>Specs Score</th>\n",
       "      <th>Likes</th>\n",
       "    </tr>\n",
       "  </thead>\n",
       "  <tbody>\n",
       "    <tr>\n",
       "      <th>0</th>\n",
       "      <td>Gionee M7 Power</td>\n",
       "      <td>Screen:6.0 inches, 720 x 1440 pixels,Front Cam...</td>\n",
       "      <td>11,800</td>\n",
       "      <td>4.0</td>\n",
       "      <td>56%</td>\n",
       "      <td>13</td>\n",
       "    </tr>\n",
       "    <tr>\n",
       "      <th>1</th>\n",
       "      <td>Gionee M7</td>\n",
       "      <td>Screen:6.01 inches, 1080 x 2160 pixels,Front C...</td>\n",
       "      <td>7,999</td>\n",
       "      <td>4.5</td>\n",
       "      <td>69%</td>\n",
       "      <td>8</td>\n",
       "    </tr>\n",
       "    <tr>\n",
       "      <th>2</th>\n",
       "      <td>Samsung Galaxy M21 6GB128GB</td>\n",
       "      <td>Screen:6.4 inches, 1080 x 2340 pixels,Front Ca...</td>\n",
       "      <td>22,590</td>\n",
       "      <td>4.3</td>\n",
       "      <td>100%</td>\n",
       "      <td>30</td>\n",
       "    </tr>\n",
       "    <tr>\n",
       "      <th>3</th>\n",
       "      <td>Samsung Galaxy M21 4GB64GB</td>\n",
       "      <td>Screen:6.4 inches, 1080 x 2340 pixels,Front Ca...</td>\n",
       "      <td>22,499</td>\n",
       "      <td>3.8</td>\n",
       "      <td>94%</td>\n",
       "      <td>31</td>\n",
       "    </tr>\n",
       "    <tr>\n",
       "      <th>4</th>\n",
       "      <td>Samsung Galaxy A31 6GB128GB</td>\n",
       "      <td>Screen:6.4 inches, 1080 x 2400 pixels,Front Ca...</td>\n",
       "      <td>24,999</td>\n",
       "      <td>3.8</td>\n",
       "      <td>98%</td>\n",
       "      <td>31</td>\n",
       "    </tr>\n",
       "  </tbody>\n",
       "</table>\n",
       "</div>"
      ],
      "text/plain": [
       "                   Phone Title  \\\n",
       "0              Gionee M7 Power   \n",
       "1                    Gionee M7   \n",
       "2  Samsung Galaxy M21 6GB128GB   \n",
       "3   Samsung Galaxy M21 4GB64GB   \n",
       "4  Samsung Galaxy A31 6GB128GB   \n",
       "\n",
       "                                               Specs Price(Kshs)  Rating  \\\n",
       "0  Screen:6.0 inches, 720 x 1440 pixels,Front Cam...      11,800     4.0   \n",
       "1  Screen:6.01 inches, 1080 x 2160 pixels,Front C...       7,999     4.5   \n",
       "2  Screen:6.4 inches, 1080 x 2340 pixels,Front Ca...      22,590     4.3   \n",
       "3  Screen:6.4 inches, 1080 x 2340 pixels,Front Ca...      22,499     3.8   \n",
       "4  Screen:6.4 inches, 1080 x 2400 pixels,Front Ca...      24,999     3.8   \n",
       "\n",
       "  Specs Score  Likes  \n",
       "0         56%     13  \n",
       "1         69%      8  \n",
       "2        100%     30  \n",
       "3         94%     31  \n",
       "4         98%     31  "
      ]
     },
     "execution_count": 2,
     "metadata": {},
     "output_type": "execute_result"
    }
   ],
   "source": [
    "#displaying the first 5 rows\n",
    "df1.head()"
   ]
  },
  {
   "cell_type": "code",
   "execution_count": 3,
   "id": "d7f6bc22",
   "metadata": {},
   "outputs": [
    {
     "data": {
      "text/plain": [
       "(1148, 6)"
      ]
     },
     "execution_count": 3,
     "metadata": {},
     "output_type": "execute_result"
    }
   ],
   "source": [
    "#total nuber of rows and columns\n",
    "df1.shape"
   ]
  },
  {
   "cell_type": "code",
   "execution_count": 4,
   "id": "bffe79f3",
   "metadata": {},
   "outputs": [
    {
     "data": {
      "text/html": [
       "<div>\n",
       "<style scoped>\n",
       "    .dataframe tbody tr th:only-of-type {\n",
       "        vertical-align: middle;\n",
       "    }\n",
       "\n",
       "    .dataframe tbody tr th {\n",
       "        vertical-align: top;\n",
       "    }\n",
       "\n",
       "    .dataframe thead th {\n",
       "        text-align: right;\n",
       "    }\n",
       "</style>\n",
       "<table border=\"1\" class=\"dataframe\">\n",
       "  <thead>\n",
       "    <tr style=\"text-align: right;\">\n",
       "      <th></th>\n",
       "      <th>Phone Title</th>\n",
       "      <th>Specs</th>\n",
       "      <th>Price(Kshs)</th>\n",
       "      <th>Rating</th>\n",
       "      <th>Specs Score</th>\n",
       "      <th>Likes</th>\n",
       "    </tr>\n",
       "  </thead>\n",
       "  <tbody>\n",
       "    <tr>\n",
       "      <th>0</th>\n",
       "      <td>Gionee M7 Power</td>\n",
       "      <td>Screen:6.0 inches, 720 x 1440 pixels,Front Cam...</td>\n",
       "      <td>15880.0</td>\n",
       "      <td>4.0</td>\n",
       "      <td>56%</td>\n",
       "      <td>13</td>\n",
       "    </tr>\n",
       "    <tr>\n",
       "      <th>1</th>\n",
       "      <td>Gionee M7</td>\n",
       "      <td>Screen:6.01 inches, 1080 x 2160 pixels,Front C...</td>\n",
       "      <td>15880.0</td>\n",
       "      <td>4.5</td>\n",
       "      <td>69%</td>\n",
       "      <td>8</td>\n",
       "    </tr>\n",
       "    <tr>\n",
       "      <th>2</th>\n",
       "      <td>Samsung Galaxy M21 6GB/128GB</td>\n",
       "      <td>Screen:6.4 inches, 1080 x 2340 pixels,Front Ca...</td>\n",
       "      <td>21590.0</td>\n",
       "      <td>4.3</td>\n",
       "      <td>100%</td>\n",
       "      <td>30</td>\n",
       "    </tr>\n",
       "    <tr>\n",
       "      <th>3</th>\n",
       "      <td>Samsung Galaxy M21 4GB/64GB</td>\n",
       "      <td>Screen:6.4 inches, 1080 x 2340 pixels,Front Ca...</td>\n",
       "      <td>22,499</td>\n",
       "      <td>3.8</td>\n",
       "      <td>94%</td>\n",
       "      <td>31</td>\n",
       "    </tr>\n",
       "    <tr>\n",
       "      <th>4</th>\n",
       "      <td>Samsung Galaxy A31 6GB/128GB</td>\n",
       "      <td>Screen:6.4 inches, 1080 x 2400 pixels,Front Ca...</td>\n",
       "      <td>24,999</td>\n",
       "      <td>3.8</td>\n",
       "      <td>98%</td>\n",
       "      <td>31</td>\n",
       "    </tr>\n",
       "  </tbody>\n",
       "</table>\n",
       "</div>"
      ],
      "text/plain": [
       "                    Phone Title  \\\n",
       "0               Gionee M7 Power   \n",
       "1                     Gionee M7   \n",
       "2  Samsung Galaxy M21 6GB/128GB   \n",
       "3   Samsung Galaxy M21 4GB/64GB   \n",
       "4  Samsung Galaxy A31 6GB/128GB   \n",
       "\n",
       "                                               Specs Price(Kshs)  Rating  \\\n",
       "0  Screen:6.0 inches, 720 x 1440 pixels,Front Cam...     15880.0     4.0   \n",
       "1  Screen:6.01 inches, 1080 x 2160 pixels,Front C...     15880.0     4.5   \n",
       "2  Screen:6.4 inches, 1080 x 2340 pixels,Front Ca...     21590.0     4.3   \n",
       "3  Screen:6.4 inches, 1080 x 2340 pixels,Front Ca...      22,499     3.8   \n",
       "4  Screen:6.4 inches, 1080 x 2400 pixels,Front Ca...      24,999     3.8   \n",
       "\n",
       "  Specs Score  Likes  \n",
       "0         56%     13  \n",
       "1         69%      8  \n",
       "2        100%     30  \n",
       "3         94%     31  \n",
       "4         98%     31  "
      ]
     },
     "execution_count": 4,
     "metadata": {},
     "output_type": "execute_result"
    }
   ],
   "source": [
    "#displaying the first 5 rows\n",
    "df2.head()"
   ]
  },
  {
   "cell_type": "code",
   "execution_count": 5,
   "id": "8b6237eb",
   "metadata": {
    "scrolled": true
   },
   "outputs": [
    {
     "data": {
      "text/plain": [
       "(1148, 6)"
      ]
     },
     "execution_count": 5,
     "metadata": {},
     "output_type": "execute_result"
    }
   ],
   "source": [
    "#total nuber of rows and columns\n",
    "df2.shape"
   ]
  },
  {
   "cell_type": "code",
   "execution_count": 6,
   "id": "82e96a65",
   "metadata": {},
   "outputs": [],
   "source": [
    "#copying df2 dataset to df\n",
    "df = df2.copy()"
   ]
  },
  {
   "cell_type": "code",
   "execution_count": 7,
   "id": "808cec6a",
   "metadata": {
    "scrolled": true
   },
   "outputs": [
    {
     "data": {
      "text/html": [
       "<div>\n",
       "<style scoped>\n",
       "    .dataframe tbody tr th:only-of-type {\n",
       "        vertical-align: middle;\n",
       "    }\n",
       "\n",
       "    .dataframe tbody tr th {\n",
       "        vertical-align: top;\n",
       "    }\n",
       "\n",
       "    .dataframe thead th {\n",
       "        text-align: right;\n",
       "    }\n",
       "</style>\n",
       "<table border=\"1\" class=\"dataframe\">\n",
       "  <thead>\n",
       "    <tr style=\"text-align: right;\">\n",
       "      <th></th>\n",
       "      <th>Phone Title</th>\n",
       "      <th>Specs</th>\n",
       "      <th>Price(Kshs)</th>\n",
       "      <th>Rating</th>\n",
       "      <th>Specs Score</th>\n",
       "      <th>Likes</th>\n",
       "    </tr>\n",
       "  </thead>\n",
       "  <tbody>\n",
       "    <tr>\n",
       "      <th>0</th>\n",
       "      <td>Gionee M7 Power</td>\n",
       "      <td>Screen:6.0 inches, 720 x 1440 pixels,Front Cam...</td>\n",
       "      <td>15880.0</td>\n",
       "      <td>4.0</td>\n",
       "      <td>56%</td>\n",
       "      <td>13</td>\n",
       "    </tr>\n",
       "    <tr>\n",
       "      <th>1</th>\n",
       "      <td>Gionee M7</td>\n",
       "      <td>Screen:6.01 inches, 1080 x 2160 pixels,Front C...</td>\n",
       "      <td>15880.0</td>\n",
       "      <td>4.5</td>\n",
       "      <td>69%</td>\n",
       "      <td>8</td>\n",
       "    </tr>\n",
       "    <tr>\n",
       "      <th>2</th>\n",
       "      <td>Samsung Galaxy M21 6GB/128GB</td>\n",
       "      <td>Screen:6.4 inches, 1080 x 2340 pixels,Front Ca...</td>\n",
       "      <td>21590.0</td>\n",
       "      <td>4.3</td>\n",
       "      <td>100%</td>\n",
       "      <td>30</td>\n",
       "    </tr>\n",
       "    <tr>\n",
       "      <th>3</th>\n",
       "      <td>Samsung Galaxy M21 4GB/64GB</td>\n",
       "      <td>Screen:6.4 inches, 1080 x 2340 pixels,Front Ca...</td>\n",
       "      <td>22,499</td>\n",
       "      <td>3.8</td>\n",
       "      <td>94%</td>\n",
       "      <td>31</td>\n",
       "    </tr>\n",
       "    <tr>\n",
       "      <th>4</th>\n",
       "      <td>Samsung Galaxy A31 6GB/128GB</td>\n",
       "      <td>Screen:6.4 inches, 1080 x 2400 pixels,Front Ca...</td>\n",
       "      <td>24,999</td>\n",
       "      <td>3.8</td>\n",
       "      <td>98%</td>\n",
       "      <td>31</td>\n",
       "    </tr>\n",
       "  </tbody>\n",
       "</table>\n",
       "</div>"
      ],
      "text/plain": [
       "                    Phone Title  \\\n",
       "0               Gionee M7 Power   \n",
       "1                     Gionee M7   \n",
       "2  Samsung Galaxy M21 6GB/128GB   \n",
       "3   Samsung Galaxy M21 4GB/64GB   \n",
       "4  Samsung Galaxy A31 6GB/128GB   \n",
       "\n",
       "                                               Specs Price(Kshs)  Rating  \\\n",
       "0  Screen:6.0 inches, 720 x 1440 pixels,Front Cam...     15880.0     4.0   \n",
       "1  Screen:6.01 inches, 1080 x 2160 pixels,Front C...     15880.0     4.5   \n",
       "2  Screen:6.4 inches, 1080 x 2340 pixels,Front Ca...     21590.0     4.3   \n",
       "3  Screen:6.4 inches, 1080 x 2340 pixels,Front Ca...      22,499     3.8   \n",
       "4  Screen:6.4 inches, 1080 x 2400 pixels,Front Ca...      24,999     3.8   \n",
       "\n",
       "  Specs Score  Likes  \n",
       "0         56%     13  \n",
       "1         69%      8  \n",
       "2        100%     30  \n",
       "3         94%     31  \n",
       "4         98%     31  "
      ]
     },
     "execution_count": 7,
     "metadata": {},
     "output_type": "execute_result"
    }
   ],
   "source": [
    "df.head()"
   ]
  },
  {
   "cell_type": "markdown",
   "id": "a3db9d42",
   "metadata": {},
   "source": [
    "# Dropping and creating new columns"
   ]
  },
  {
   "cell_type": "code",
   "execution_count": 8,
   "id": "253dfbd4",
   "metadata": {},
   "outputs": [],
   "source": [
    "#dropping unnecessary columns\n",
    "df.drop(columns = [\"Rating\",\"Specs Score\",\"Likes\"],inplace = True)"
   ]
  },
  {
   "cell_type": "code",
   "execution_count": 9,
   "id": "8415f620",
   "metadata": {},
   "outputs": [],
   "source": [
    "#Creating  columns\n",
    "df[\"Title\"] = df[\"Phone Title\"].str.split(\" \").str.get(0)\n",
    "df[\"RAM\"] = df[\"Specs\"].str.split(\",\").str.get(-3)\n",
    "df[\"Storage\"] = df[\"Specs\"].str.split(\",\").str.get(-4)"
   ]
  },
  {
   "cell_type": "code",
   "execution_count": 10,
   "id": "df58399b",
   "metadata": {},
   "outputs": [
    {
     "data": {
      "text/html": [
       "<div>\n",
       "<style scoped>\n",
       "    .dataframe tbody tr th:only-of-type {\n",
       "        vertical-align: middle;\n",
       "    }\n",
       "\n",
       "    .dataframe tbody tr th {\n",
       "        vertical-align: top;\n",
       "    }\n",
       "\n",
       "    .dataframe thead th {\n",
       "        text-align: right;\n",
       "    }\n",
       "</style>\n",
       "<table border=\"1\" class=\"dataframe\">\n",
       "  <thead>\n",
       "    <tr style=\"text-align: right;\">\n",
       "      <th></th>\n",
       "      <th>Phone Title</th>\n",
       "      <th>Specs</th>\n",
       "      <th>Price(Kshs)</th>\n",
       "      <th>Title</th>\n",
       "      <th>RAM</th>\n",
       "      <th>Storage</th>\n",
       "    </tr>\n",
       "  </thead>\n",
       "  <tbody>\n",
       "    <tr>\n",
       "      <th>0</th>\n",
       "      <td>Gionee M7 Power</td>\n",
       "      <td>Screen:6.0 inches, 720 x 1440 pixels,Front Cam...</td>\n",
       "      <td>15880.0</td>\n",
       "      <td>Gionee</td>\n",
       "      <td>RAM:4GB</td>\n",
       "      <td>Storage:64GB</td>\n",
       "    </tr>\n",
       "    <tr>\n",
       "      <th>1</th>\n",
       "      <td>Gionee M7</td>\n",
       "      <td>Screen:6.01 inches, 1080 x 2160 pixels,Front C...</td>\n",
       "      <td>15880.0</td>\n",
       "      <td>Gionee</td>\n",
       "      <td>RAM:6GB</td>\n",
       "      <td>Storage:64GB</td>\n",
       "    </tr>\n",
       "    <tr>\n",
       "      <th>2</th>\n",
       "      <td>Samsung Galaxy M21 6GB/128GB</td>\n",
       "      <td>Screen:6.4 inches, 1080 x 2340 pixels,Front Ca...</td>\n",
       "      <td>21590.0</td>\n",
       "      <td>Samsung</td>\n",
       "      <td>RAM:6GB</td>\n",
       "      <td>Storage:128GB</td>\n",
       "    </tr>\n",
       "    <tr>\n",
       "      <th>3</th>\n",
       "      <td>Samsung Galaxy M21 4GB/64GB</td>\n",
       "      <td>Screen:6.4 inches, 1080 x 2340 pixels,Front Ca...</td>\n",
       "      <td>22,499</td>\n",
       "      <td>Samsung</td>\n",
       "      <td>RAM:4GB</td>\n",
       "      <td>Storage:64GB</td>\n",
       "    </tr>\n",
       "    <tr>\n",
       "      <th>4</th>\n",
       "      <td>Samsung Galaxy A31 6GB/128GB</td>\n",
       "      <td>Screen:6.4 inches, 1080 x 2400 pixels,Front Ca...</td>\n",
       "      <td>24,999</td>\n",
       "      <td>Samsung</td>\n",
       "      <td>RAM:6GB</td>\n",
       "      <td>Storage:128GB</td>\n",
       "    </tr>\n",
       "  </tbody>\n",
       "</table>\n",
       "</div>"
      ],
      "text/plain": [
       "                    Phone Title  \\\n",
       "0               Gionee M7 Power   \n",
       "1                     Gionee M7   \n",
       "2  Samsung Galaxy M21 6GB/128GB   \n",
       "3   Samsung Galaxy M21 4GB/64GB   \n",
       "4  Samsung Galaxy A31 6GB/128GB   \n",
       "\n",
       "                                               Specs Price(Kshs)    Title  \\\n",
       "0  Screen:6.0 inches, 720 x 1440 pixels,Front Cam...     15880.0   Gionee   \n",
       "1  Screen:6.01 inches, 1080 x 2160 pixels,Front C...     15880.0   Gionee   \n",
       "2  Screen:6.4 inches, 1080 x 2340 pixels,Front Ca...     21590.0  Samsung   \n",
       "3  Screen:6.4 inches, 1080 x 2340 pixels,Front Ca...      22,499  Samsung   \n",
       "4  Screen:6.4 inches, 1080 x 2400 pixels,Front Ca...      24,999  Samsung   \n",
       "\n",
       "       RAM        Storage  \n",
       "0  RAM:4GB   Storage:64GB  \n",
       "1  RAM:6GB   Storage:64GB  \n",
       "2  RAM:6GB  Storage:128GB  \n",
       "3  RAM:4GB   Storage:64GB  \n",
       "4  RAM:6GB  Storage:128GB  "
      ]
     },
     "execution_count": 10,
     "metadata": {},
     "output_type": "execute_result"
    }
   ],
   "source": [
    "df.head()"
   ]
  },
  {
   "cell_type": "code",
   "execution_count": 11,
   "id": "f0ea1d48",
   "metadata": {
    "scrolled": true
   },
   "outputs": [
    {
     "data": {
      "text/plain": [
       "RAM:4GB           220\n",
       "RAM:6GB           195\n",
       "RAM:8GB           167\n",
       "RAM:3GB           157\n",
       "RAM:2GB            98\n",
       "RAM:4 GB           49\n",
       "RAM:2 GB           43\n",
       "RAM:1GB            40\n",
       "RAM:3 GB           38\n",
       "RAM:12GB           32\n",
       "RAM:1 GB           28\n",
       "RAM:6 GB           10\n",
       "Storage:64 GB       9\n",
       "Storage:16 GB       9\n",
       "RAM:-               8\n",
       "Storage:32 GB       6\n",
       "RAM:1.5GB           5\n",
       "RAM:0.5GB           5\n",
       "Storage:64GB        4\n",
       "Storage:256 GB      3\n",
       "Storage:256GB       3\n",
       "Storage:32GB        3\n",
       "RAM:1.5 GB          2\n",
       "Storage:128 GB      2\n",
       "Storage:512GB       2\n",
       "Storage:128GB       2\n",
       "RAM:10GB            2\n",
       "RAM:32MB            2\n",
       "Storage:8GB         1\n",
       "RAM:8 GB            1\n",
       "RAM:512MB           1\n",
       "RAM:8MB             1\n",
       "Name: RAM, dtype: int64"
      ]
     },
     "execution_count": 11,
     "metadata": {},
     "output_type": "execute_result"
    }
   ],
   "source": [
    "#checking the number of unique entries in 'RAM' column\n",
    "df[\"RAM\"].value_counts()"
   ]
  },
  {
   "cell_type": "code",
   "execution_count": 12,
   "id": "fd165658",
   "metadata": {},
   "outputs": [],
   "source": [
    "#Cleaning 'RAM' column and creating a new dataset (df3)\n",
    "a = (df[\"RAM\"].str.split(\":\").str.get(0) == \"RAM\")\n",
    "df3 = df[a]"
   ]
  },
  {
   "cell_type": "code",
   "execution_count": 13,
   "id": "07dd6690",
   "metadata": {},
   "outputs": [
    {
     "data": {
      "text/plain": [
       "Storage:128GB     288\n",
       "Storage:64GB      237\n",
       "Storage:32GB      180\n",
       "Storage:16GB       88\n",
       "Storage:256GB      84\n",
       "Storage:16 GB      51\n",
       "Storage:32 GB      49\n",
       "Storage:64 GB      33\n",
       "Storage:8GB        23\n",
       "Storage:128 GB     18\n",
       "Storage:512GB      16\n",
       "Storage:8 GB       16\n",
       "Storage:256 GB      4\n",
       "Storage:4GB         4\n",
       "Storage:-           4\n",
       "Storage:4MB         3\n",
       "Storage:16MB        2\n",
       "Storage:1TB         1\n",
       "Storage:64MB        1\n",
       "Storage:32MB        1\n",
       "Storage:24MB        1\n",
       "Name: Storage, dtype: int64"
      ]
     },
     "execution_count": 13,
     "metadata": {},
     "output_type": "execute_result"
    }
   ],
   "source": [
    "#Total number of unique entries in 'Storage' column\n",
    "df3[\"Storage\"].value_counts()"
   ]
  },
  {
   "cell_type": "code",
   "execution_count": 14,
   "id": "5d267056",
   "metadata": {},
   "outputs": [],
   "source": [
    "#Cleaning 'Storage' column and creating a new dataset (df4)\n",
    "b = (df[\"RAM\"].str.split(\":\").str.get(0) == \"Storage\")\n",
    "df4 = df[b]"
   ]
  },
  {
   "cell_type": "code",
   "execution_count": 15,
   "id": "9880ac37",
   "metadata": {},
   "outputs": [
    {
     "data": {
      "text/html": [
       "<div>\n",
       "<style scoped>\n",
       "    .dataframe tbody tr th:only-of-type {\n",
       "        vertical-align: middle;\n",
       "    }\n",
       "\n",
       "    .dataframe tbody tr th {\n",
       "        vertical-align: top;\n",
       "    }\n",
       "\n",
       "    .dataframe thead th {\n",
       "        text-align: right;\n",
       "    }\n",
       "</style>\n",
       "<table border=\"1\" class=\"dataframe\">\n",
       "  <thead>\n",
       "    <tr style=\"text-align: right;\">\n",
       "      <th></th>\n",
       "      <th>Phone Title</th>\n",
       "      <th>Specs</th>\n",
       "      <th>Price(Kshs)</th>\n",
       "      <th>Title</th>\n",
       "      <th>RAM</th>\n",
       "      <th>Storage</th>\n",
       "    </tr>\n",
       "  </thead>\n",
       "  <tbody>\n",
       "    <tr>\n",
       "      <th>109</th>\n",
       "      <td>Tecno Camon CX 32GB</td>\n",
       "      <td>Screen:5.5 inches, 1080 x 1920 pixels,Front Ca...</td>\n",
       "      <td>24999.0</td>\n",
       "      <td>Tecno</td>\n",
       "      <td>Storage:32 GB</td>\n",
       "      <td>OS:Android 7.0 Nougat</td>\n",
       "    </tr>\n",
       "    <tr>\n",
       "      <th>169</th>\n",
       "      <td>Xiaomi Mi 5s 128 GB</td>\n",
       "      <td>Screen:5.15 inches, 1080 x 1920 pixels,Front C...</td>\n",
       "      <td>30000.0</td>\n",
       "      <td>Xiaomi</td>\n",
       "      <td>Storage:128 GB</td>\n",
       "      <td>OS:Android 6.0 Marshmallow</td>\n",
       "    </tr>\n",
       "    <tr>\n",
       "      <th>170</th>\n",
       "      <td>Xiaomi Mi 5s 64 GB</td>\n",
       "      <td>Screen:5.15 inches, 1080 x 1920 pixels,Front C...</td>\n",
       "      <td>16399.0</td>\n",
       "      <td>Xiaomi</td>\n",
       "      <td>Storage:64 GB</td>\n",
       "      <td>OS:Android 6.0 Marshmallow</td>\n",
       "    </tr>\n",
       "    <tr>\n",
       "      <th>203</th>\n",
       "      <td>Nokia 9</td>\n",
       "      <td>Screen:5.5 inches, 1440 x 2560 pixels,Front Ca...</td>\n",
       "      <td>299.0</td>\n",
       "      <td>Nokia</td>\n",
       "      <td>Storage:128 GB</td>\n",
       "      <td>OS:Android 8.0 Oreo</td>\n",
       "    </tr>\n",
       "    <tr>\n",
       "      <th>251</th>\n",
       "      <td>Apple iPhone XR 256GB</td>\n",
       "      <td>Screen:6.1 inches, 828 x 1792 pixels,Front Cam...</td>\n",
       "      <td>82,000</td>\n",
       "      <td>Apple</td>\n",
       "      <td>Storage:256GB</td>\n",
       "      <td>OS:iOS: 12</td>\n",
       "    </tr>\n",
       "  </tbody>\n",
       "</table>\n",
       "</div>"
      ],
      "text/plain": [
       "               Phone Title                                              Specs  \\\n",
       "109    Tecno Camon CX 32GB  Screen:5.5 inches, 1080 x 1920 pixels,Front Ca...   \n",
       "169    Xiaomi Mi 5s 128 GB  Screen:5.15 inches, 1080 x 1920 pixels,Front C...   \n",
       "170     Xiaomi Mi 5s 64 GB  Screen:5.15 inches, 1080 x 1920 pixels,Front C...   \n",
       "203                Nokia 9  Screen:5.5 inches, 1440 x 2560 pixels,Front Ca...   \n",
       "251  Apple iPhone XR 256GB  Screen:6.1 inches, 828 x 1792 pixels,Front Cam...   \n",
       "\n",
       "    Price(Kshs)   Title             RAM                     Storage  \n",
       "109     24999.0   Tecno   Storage:32 GB       OS:Android 7.0 Nougat  \n",
       "169     30000.0  Xiaomi  Storage:128 GB  OS:Android 6.0 Marshmallow  \n",
       "170     16399.0  Xiaomi   Storage:64 GB  OS:Android 6.0 Marshmallow  \n",
       "203       299.0   Nokia  Storage:128 GB         OS:Android 8.0 Oreo  \n",
       "251      82,000   Apple   Storage:256GB                  OS:iOS: 12  "
      ]
     },
     "execution_count": 15,
     "metadata": {},
     "output_type": "execute_result"
    }
   ],
   "source": [
    "df4.head()"
   ]
  },
  {
   "cell_type": "code",
   "execution_count": 16,
   "id": "94600daf",
   "metadata": {},
   "outputs": [
    {
     "name": "stderr",
     "output_type": "stream",
     "text": [
      "C:\\Users\\Naibei_jr\\AppData\\Local\\Temp\\ipykernel_7060\\2098909153.py:2: SettingWithCopyWarning: \n",
      "A value is trying to be set on a copy of a slice from a DataFrame.\n",
      "Try using .loc[row_indexer,col_indexer] = value instead\n",
      "\n",
      "See the caveats in the documentation: https://pandas.pydata.org/pandas-docs/stable/user_guide/indexing.html#returning-a-view-versus-a-copy\n",
      "  df4[\"Storage\"] = df4[\"RAM\"]\n"
     ]
    }
   ],
   "source": [
    "#Assigning 'storage' column to 'RAM' values\n",
    "df4[\"Storage\"] = df4[\"RAM\"]"
   ]
  },
  {
   "cell_type": "code",
   "execution_count": 17,
   "id": "f818028d",
   "metadata": {},
   "outputs": [
    {
     "name": "stderr",
     "output_type": "stream",
     "text": [
      "C:\\Users\\Naibei_jr\\AppData\\Local\\Temp\\ipykernel_7060\\4195690048.py:2: SettingWithCopyWarning: \n",
      "A value is trying to be set on a copy of a slice from a DataFrame.\n",
      "Try using .loc[row_indexer,col_indexer] = value instead\n",
      "\n",
      "See the caveats in the documentation: https://pandas.pydata.org/pandas-docs/stable/user_guide/indexing.html#returning-a-view-versus-a-copy\n",
      "  df4[\"RAM\"] = df4[\"Specs\"].str.split(\",\").str.get(-2)\n"
     ]
    }
   ],
   "source": [
    "#Getting 'RAM' column from specs\n",
    "df4[\"RAM\"] = df4[\"Specs\"].str.split(\",\").str.get(-2)"
   ]
  },
  {
   "cell_type": "code",
   "execution_count": 18,
   "id": "f44cf831",
   "metadata": {},
   "outputs": [
    {
     "data": {
      "text/html": [
       "<div>\n",
       "<style scoped>\n",
       "    .dataframe tbody tr th:only-of-type {\n",
       "        vertical-align: middle;\n",
       "    }\n",
       "\n",
       "    .dataframe tbody tr th {\n",
       "        vertical-align: top;\n",
       "    }\n",
       "\n",
       "    .dataframe thead th {\n",
       "        text-align: right;\n",
       "    }\n",
       "</style>\n",
       "<table border=\"1\" class=\"dataframe\">\n",
       "  <thead>\n",
       "    <tr style=\"text-align: right;\">\n",
       "      <th></th>\n",
       "      <th>Phone Title</th>\n",
       "      <th>Specs</th>\n",
       "      <th>Price(Kshs)</th>\n",
       "      <th>Title</th>\n",
       "      <th>RAM</th>\n",
       "      <th>Storage</th>\n",
       "    </tr>\n",
       "  </thead>\n",
       "  <tbody>\n",
       "    <tr>\n",
       "      <th>109</th>\n",
       "      <td>Tecno Camon CX 32GB</td>\n",
       "      <td>Screen:5.5 inches, 1080 x 1920 pixels,Front Ca...</td>\n",
       "      <td>24999.0</td>\n",
       "      <td>Tecno</td>\n",
       "      <td>RAM:2 GB</td>\n",
       "      <td>Storage:32 GB</td>\n",
       "    </tr>\n",
       "    <tr>\n",
       "      <th>169</th>\n",
       "      <td>Xiaomi Mi 5s 128 GB</td>\n",
       "      <td>Screen:5.15 inches, 1080 x 1920 pixels,Front C...</td>\n",
       "      <td>30000.0</td>\n",
       "      <td>Xiaomi</td>\n",
       "      <td>RAM:4 GB</td>\n",
       "      <td>Storage:128 GB</td>\n",
       "    </tr>\n",
       "    <tr>\n",
       "      <th>170</th>\n",
       "      <td>Xiaomi Mi 5s 64 GB</td>\n",
       "      <td>Screen:5.15 inches, 1080 x 1920 pixels,Front C...</td>\n",
       "      <td>16399.0</td>\n",
       "      <td>Xiaomi</td>\n",
       "      <td>RAM:3 GB</td>\n",
       "      <td>Storage:64 GB</td>\n",
       "    </tr>\n",
       "    <tr>\n",
       "      <th>203</th>\n",
       "      <td>Nokia 9</td>\n",
       "      <td>Screen:5.5 inches, 1440 x 2560 pixels,Front Ca...</td>\n",
       "      <td>299.0</td>\n",
       "      <td>Nokia</td>\n",
       "      <td>RAM:4 GB</td>\n",
       "      <td>Storage:128 GB</td>\n",
       "    </tr>\n",
       "    <tr>\n",
       "      <th>251</th>\n",
       "      <td>Apple iPhone XR 256GB</td>\n",
       "      <td>Screen:6.1 inches, 828 x 1792 pixels,Front Cam...</td>\n",
       "      <td>82,000</td>\n",
       "      <td>Apple</td>\n",
       "      <td>RAM:3GB</td>\n",
       "      <td>Storage:256GB</td>\n",
       "    </tr>\n",
       "  </tbody>\n",
       "</table>\n",
       "</div>"
      ],
      "text/plain": [
       "               Phone Title                                              Specs  \\\n",
       "109    Tecno Camon CX 32GB  Screen:5.5 inches, 1080 x 1920 pixels,Front Ca...   \n",
       "169    Xiaomi Mi 5s 128 GB  Screen:5.15 inches, 1080 x 1920 pixels,Front C...   \n",
       "170     Xiaomi Mi 5s 64 GB  Screen:5.15 inches, 1080 x 1920 pixels,Front C...   \n",
       "203                Nokia 9  Screen:5.5 inches, 1440 x 2560 pixels,Front Ca...   \n",
       "251  Apple iPhone XR 256GB  Screen:6.1 inches, 828 x 1792 pixels,Front Cam...   \n",
       "\n",
       "    Price(Kshs)   Title       RAM         Storage  \n",
       "109     24999.0   Tecno  RAM:2 GB   Storage:32 GB  \n",
       "169     30000.0  Xiaomi  RAM:4 GB  Storage:128 GB  \n",
       "170     16399.0  Xiaomi  RAM:3 GB   Storage:64 GB  \n",
       "203       299.0   Nokia  RAM:4 GB  Storage:128 GB  \n",
       "251      82,000   Apple   RAM:3GB   Storage:256GB  "
      ]
     },
     "execution_count": 18,
     "metadata": {},
     "output_type": "execute_result"
    }
   ],
   "source": [
    "#first 5 rows of df4\n",
    "df4.head()"
   ]
  },
  {
   "cell_type": "code",
   "execution_count": 19,
   "id": "30138303",
   "metadata": {
    "scrolled": true
   },
   "outputs": [
    {
     "data": {
      "text/html": [
       "<div>\n",
       "<style scoped>\n",
       "    .dataframe tbody tr th:only-of-type {\n",
       "        vertical-align: middle;\n",
       "    }\n",
       "\n",
       "    .dataframe tbody tr th {\n",
       "        vertical-align: top;\n",
       "    }\n",
       "\n",
       "    .dataframe thead th {\n",
       "        text-align: right;\n",
       "    }\n",
       "</style>\n",
       "<table border=\"1\" class=\"dataframe\">\n",
       "  <thead>\n",
       "    <tr style=\"text-align: right;\">\n",
       "      <th></th>\n",
       "      <th>Phone Title</th>\n",
       "      <th>Specs</th>\n",
       "      <th>Price(Kshs)</th>\n",
       "      <th>Title</th>\n",
       "      <th>RAM</th>\n",
       "      <th>Storage</th>\n",
       "    </tr>\n",
       "  </thead>\n",
       "  <tbody>\n",
       "    <tr>\n",
       "      <th>0</th>\n",
       "      <td>Gionee M7 Power</td>\n",
       "      <td>Screen:6.0 inches, 720 x 1440 pixels,Front Cam...</td>\n",
       "      <td>15880.0</td>\n",
       "      <td>Gionee</td>\n",
       "      <td>RAM:4GB</td>\n",
       "      <td>Storage:64GB</td>\n",
       "    </tr>\n",
       "    <tr>\n",
       "      <th>1</th>\n",
       "      <td>Gionee M7</td>\n",
       "      <td>Screen:6.01 inches, 1080 x 2160 pixels,Front C...</td>\n",
       "      <td>15880.0</td>\n",
       "      <td>Gionee</td>\n",
       "      <td>RAM:6GB</td>\n",
       "      <td>Storage:64GB</td>\n",
       "    </tr>\n",
       "    <tr>\n",
       "      <th>2</th>\n",
       "      <td>Samsung Galaxy M21 6GB/128GB</td>\n",
       "      <td>Screen:6.4 inches, 1080 x 2340 pixels,Front Ca...</td>\n",
       "      <td>21590.0</td>\n",
       "      <td>Samsung</td>\n",
       "      <td>RAM:6GB</td>\n",
       "      <td>Storage:128GB</td>\n",
       "    </tr>\n",
       "    <tr>\n",
       "      <th>3</th>\n",
       "      <td>Samsung Galaxy M21 4GB/64GB</td>\n",
       "      <td>Screen:6.4 inches, 1080 x 2340 pixels,Front Ca...</td>\n",
       "      <td>22,499</td>\n",
       "      <td>Samsung</td>\n",
       "      <td>RAM:4GB</td>\n",
       "      <td>Storage:64GB</td>\n",
       "    </tr>\n",
       "    <tr>\n",
       "      <th>4</th>\n",
       "      <td>Samsung Galaxy A31 6GB/128GB</td>\n",
       "      <td>Screen:6.4 inches, 1080 x 2400 pixels,Front Ca...</td>\n",
       "      <td>24,999</td>\n",
       "      <td>Samsung</td>\n",
       "      <td>RAM:6GB</td>\n",
       "      <td>Storage:128GB</td>\n",
       "    </tr>\n",
       "  </tbody>\n",
       "</table>\n",
       "</div>"
      ],
      "text/plain": [
       "                    Phone Title  \\\n",
       "0               Gionee M7 Power   \n",
       "1                     Gionee M7   \n",
       "2  Samsung Galaxy M21 6GB/128GB   \n",
       "3   Samsung Galaxy M21 4GB/64GB   \n",
       "4  Samsung Galaxy A31 6GB/128GB   \n",
       "\n",
       "                                               Specs Price(Kshs)    Title  \\\n",
       "0  Screen:6.0 inches, 720 x 1440 pixels,Front Cam...     15880.0   Gionee   \n",
       "1  Screen:6.01 inches, 1080 x 2160 pixels,Front C...     15880.0   Gionee   \n",
       "2  Screen:6.4 inches, 1080 x 2340 pixels,Front Ca...     21590.0  Samsung   \n",
       "3  Screen:6.4 inches, 1080 x 2340 pixels,Front Ca...      22,499  Samsung   \n",
       "4  Screen:6.4 inches, 1080 x 2400 pixels,Front Ca...      24,999  Samsung   \n",
       "\n",
       "       RAM        Storage  \n",
       "0  RAM:4GB   Storage:64GB  \n",
       "1  RAM:6GB   Storage:64GB  \n",
       "2  RAM:6GB  Storage:128GB  \n",
       "3  RAM:4GB   Storage:64GB  \n",
       "4  RAM:6GB  Storage:128GB  "
      ]
     },
     "execution_count": 19,
     "metadata": {},
     "output_type": "execute_result"
    }
   ],
   "source": [
    "#first 5 rows of df4\n",
    "df3.head()"
   ]
  },
  {
   "cell_type": "markdown",
   "id": "db3b9fac",
   "metadata": {},
   "source": [
    "# Merging new datasets"
   ]
  },
  {
   "cell_type": "code",
   "execution_count": 20,
   "id": "b8a5490b",
   "metadata": {
    "scrolled": true
   },
   "outputs": [
    {
     "name": "stderr",
     "output_type": "stream",
     "text": [
      "C:\\Users\\Naibei_jr\\AppData\\Local\\Temp\\ipykernel_7060\\541570149.py:2: FutureWarning: The frame.append method is deprecated and will be removed from pandas in a future version. Use pandas.concat instead.\n",
      "  df = df3.append(df4)\n"
     ]
    }
   ],
   "source": [
    "#creating a df dataset by combining df3 and df4\n",
    "df = df3.append(df4)"
   ]
  },
  {
   "cell_type": "markdown",
   "id": "a5899ea1",
   "metadata": {},
   "source": [
    "# Further cleaning od new dataset (df)"
   ]
  },
  {
   "cell_type": "code",
   "execution_count": 21,
   "id": "1c374443",
   "metadata": {},
   "outputs": [],
   "source": [
    "#converting 'price' column's datatype to float\n",
    "df[\"Price\"] =df[\"Price(Kshs)\"].str.replace(\",\",\"\").astype(float)"
   ]
  },
  {
   "cell_type": "code",
   "execution_count": 22,
   "id": "b208eb53",
   "metadata": {},
   "outputs": [],
   "source": [
    "#making 'RAM' and 'Storage' columns have only numerical entries\n",
    "df[\"RAM\"] = df[\"RAM\"].str.replace(\"RAM\",\"\").str.replace(\":\",\"\").str.replace(\"GB\",\"\")\n",
    "df[\"Storage\"] = df[\"Storage\"].str.replace(\"Storage\",\"\").str.replace(\":\",\"\").str.replace(\"GB\",\"\")"
   ]
  },
  {
   "cell_type": "code",
   "execution_count": 23,
   "id": "d9b89f5c",
   "metadata": {},
   "outputs": [],
   "source": [
    "#Dropping unuseful columns\n",
    "df.drop(columns = [\"Phone Title\",\"Specs\",\"Price(Kshs)\"], inplace = True)"
   ]
  },
  {
   "cell_type": "code",
   "execution_count": 24,
   "id": "d3e69fb4",
   "metadata": {},
   "outputs": [
    {
     "data": {
      "text/plain": [
       "Samsung       186\n",
       "Huawei        171\n",
       "Xiaomi        138\n",
       "Tecno          76\n",
       "Oppo           75\n",
       "Infinix        69\n",
       "Nokia          61\n",
       "Realme         52\n",
       "Apple          43\n",
       "HTC            40\n",
       "Sony           40\n",
       "Vivo           35\n",
       "LG             29\n",
       "OnePlus        26\n",
       "Lenovo         23\n",
       "Motorola       17\n",
       "Google         17\n",
       "BlackBerry     16\n",
       "Honor          11\n",
       "Lava            7\n",
       "Cubot           6\n",
       "Hotwav          3\n",
       "Energizer       3\n",
       "Microsoft       2\n",
       "Gionee          2\n",
       "Name: Title, dtype: int64"
      ]
     },
     "execution_count": 24,
     "metadata": {},
     "output_type": "execute_result"
    }
   ],
   "source": [
    "#number of unique entries in 'title' column\n",
    "df[\"Title\"].value_counts()"
   ]
  },
  {
   "cell_type": "code",
   "execution_count": 25,
   "id": "1a52cda6",
   "metadata": {},
   "outputs": [
    {
     "data": {
      "text/plain": [
       "4        226\n",
       "6        195\n",
       "8        167\n",
       "3        165\n",
       "2         98\n",
       "4         56\n",
       "2         53\n",
       "3         48\n",
       "1         41\n",
       "12        32\n",
       "1         29\n",
       "6         11\n",
       "-          8\n",
       "1.5        5\n",
       "0.5        5\n",
       "10         2\n",
       "1.5        2\n",
       "32MB       2\n",
       "8          1\n",
       "512MB      1\n",
       "8MB        1\n",
       "Name: RAM, dtype: int64"
      ]
     },
     "execution_count": 25,
     "metadata": {},
     "output_type": "execute_result"
    }
   ],
   "source": [
    "# number of unique entries in 'RAM' column\n",
    "df[\"RAM\"].value_counts()"
   ]
  },
  {
   "cell_type": "code",
   "execution_count": 26,
   "id": "87523e76",
   "metadata": {
    "scrolled": true
   },
   "outputs": [
    {
     "data": {
      "text/html": [
       "<div>\n",
       "<style scoped>\n",
       "    .dataframe tbody tr th:only-of-type {\n",
       "        vertical-align: middle;\n",
       "    }\n",
       "\n",
       "    .dataframe tbody tr th {\n",
       "        vertical-align: top;\n",
       "    }\n",
       "\n",
       "    .dataframe thead th {\n",
       "        text-align: right;\n",
       "    }\n",
       "</style>\n",
       "<table border=\"1\" class=\"dataframe\">\n",
       "  <thead>\n",
       "    <tr style=\"text-align: right;\">\n",
       "      <th></th>\n",
       "      <th>Title</th>\n",
       "      <th>RAM</th>\n",
       "      <th>Storage</th>\n",
       "      <th>Price</th>\n",
       "    </tr>\n",
       "  </thead>\n",
       "  <tbody>\n",
       "    <tr>\n",
       "      <th>0</th>\n",
       "      <td>Gionee</td>\n",
       "      <td>4</td>\n",
       "      <td>64</td>\n",
       "      <td>15880.0</td>\n",
       "    </tr>\n",
       "    <tr>\n",
       "      <th>1</th>\n",
       "      <td>Gionee</td>\n",
       "      <td>6</td>\n",
       "      <td>64</td>\n",
       "      <td>15880.0</td>\n",
       "    </tr>\n",
       "    <tr>\n",
       "      <th>2</th>\n",
       "      <td>Samsung</td>\n",
       "      <td>6</td>\n",
       "      <td>128</td>\n",
       "      <td>21590.0</td>\n",
       "    </tr>\n",
       "    <tr>\n",
       "      <th>3</th>\n",
       "      <td>Samsung</td>\n",
       "      <td>4</td>\n",
       "      <td>64</td>\n",
       "      <td>22499.0</td>\n",
       "    </tr>\n",
       "    <tr>\n",
       "      <th>4</th>\n",
       "      <td>Samsung</td>\n",
       "      <td>6</td>\n",
       "      <td>128</td>\n",
       "      <td>24999.0</td>\n",
       "    </tr>\n",
       "    <tr>\n",
       "      <th>5</th>\n",
       "      <td>Samsung</td>\n",
       "      <td>4</td>\n",
       "      <td>64</td>\n",
       "      <td>24499.0</td>\n",
       "    </tr>\n",
       "    <tr>\n",
       "      <th>6</th>\n",
       "      <td>Samsung</td>\n",
       "      <td>3</td>\n",
       "      <td>32</td>\n",
       "      <td>13299.0</td>\n",
       "    </tr>\n",
       "    <tr>\n",
       "      <th>7</th>\n",
       "      <td>Samsung</td>\n",
       "      <td>2</td>\n",
       "      <td>32</td>\n",
       "      <td>14999.0</td>\n",
       "    </tr>\n",
       "    <tr>\n",
       "      <th>8</th>\n",
       "      <td>Samsung</td>\n",
       "      <td>6</td>\n",
       "      <td>128</td>\n",
       "      <td>25999.0</td>\n",
       "    </tr>\n",
       "    <tr>\n",
       "      <th>9</th>\n",
       "      <td>Samsung</td>\n",
       "      <td>6</td>\n",
       "      <td>64</td>\n",
       "      <td>26850.0</td>\n",
       "    </tr>\n",
       "  </tbody>\n",
       "</table>\n",
       "</div>"
      ],
      "text/plain": [
       "     Title RAM Storage    Price\n",
       "0   Gionee   4      64  15880.0\n",
       "1   Gionee   6      64  15880.0\n",
       "2  Samsung   6     128  21590.0\n",
       "3  Samsung   4      64  22499.0\n",
       "4  Samsung   6     128  24999.0\n",
       "5  Samsung   4      64  24499.0\n",
       "6  Samsung   3      32  13299.0\n",
       "7  Samsung   2      32  14999.0\n",
       "8  Samsung   6     128  25999.0\n",
       "9  Samsung   6      64  26850.0"
      ]
     },
     "execution_count": 26,
     "metadata": {},
     "output_type": "execute_result"
    }
   ],
   "source": [
    "df.head(10)"
   ]
  },
  {
   "cell_type": "markdown",
   "id": "d818f589",
   "metadata": {},
   "source": [
    "# Dealing with Null and Duplicated values"
   ]
  },
  {
   "cell_type": "code",
   "execution_count": 27,
   "id": "48b16bda",
   "metadata": {},
   "outputs": [
    {
     "data": {
      "text/plain": [
       "Title       0\n",
       "RAM         0\n",
       "Storage     0\n",
       "Price      95\n",
       "dtype: int64"
      ]
     },
     "execution_count": 27,
     "metadata": {},
     "output_type": "execute_result"
    }
   ],
   "source": [
    "#looking for null values\n",
    "df.isnull().sum()"
   ]
  },
  {
   "cell_type": "code",
   "execution_count": 28,
   "id": "6be2be88",
   "metadata": {},
   "outputs": [],
   "source": [
    "#filling the available null values with the price mean\n",
    "df.fillna(df[\"Price\"].mean(), inplace = True)"
   ]
  },
  {
   "cell_type": "code",
   "execution_count": 29,
   "id": "5dda8413",
   "metadata": {},
   "outputs": [
    {
     "data": {
      "text/plain": [
       "108"
      ]
     },
     "execution_count": 29,
     "metadata": {},
     "output_type": "execute_result"
    }
   ],
   "source": [
    "#looking for duplicates\n",
    "df.duplicated().sum()"
   ]
  },
  {
   "cell_type": "code",
   "execution_count": 30,
   "id": "77526b98",
   "metadata": {},
   "outputs": [],
   "source": [
    "#dropping duplicates\n",
    "df.drop_duplicates(keep = \"first\", inplace = True)"
   ]
  },
  {
   "cell_type": "code",
   "execution_count": 31,
   "id": "e63b8d50",
   "metadata": {
    "scrolled": true
   },
   "outputs": [],
   "source": [
    "#df3 = df1.append(df2)"
   ]
  },
  {
   "cell_type": "markdown",
   "id": "38d5d025",
   "metadata": {},
   "source": [
    "# Visualization"
   ]
  },
  {
   "cell_type": "code",
   "execution_count": 32,
   "id": "12a1c991",
   "metadata": {},
   "outputs": [
    {
     "data": {
      "text/html": [
       "<div>\n",
       "<style scoped>\n",
       "    .dataframe tbody tr th:only-of-type {\n",
       "        vertical-align: middle;\n",
       "    }\n",
       "\n",
       "    .dataframe tbody tr th {\n",
       "        vertical-align: top;\n",
       "    }\n",
       "\n",
       "    .dataframe thead th {\n",
       "        text-align: right;\n",
       "    }\n",
       "</style>\n",
       "<table border=\"1\" class=\"dataframe\">\n",
       "  <thead>\n",
       "    <tr style=\"text-align: right;\">\n",
       "      <th></th>\n",
       "      <th>Title</th>\n",
       "      <th>RAM</th>\n",
       "      <th>Storage</th>\n",
       "      <th>Price</th>\n",
       "    </tr>\n",
       "  </thead>\n",
       "  <tbody>\n",
       "    <tr>\n",
       "      <th>0</th>\n",
       "      <td>Gionee</td>\n",
       "      <td>4</td>\n",
       "      <td>64</td>\n",
       "      <td>15880.0</td>\n",
       "    </tr>\n",
       "    <tr>\n",
       "      <th>1</th>\n",
       "      <td>Gionee</td>\n",
       "      <td>6</td>\n",
       "      <td>64</td>\n",
       "      <td>15880.0</td>\n",
       "    </tr>\n",
       "    <tr>\n",
       "      <th>2</th>\n",
       "      <td>Samsung</td>\n",
       "      <td>6</td>\n",
       "      <td>128</td>\n",
       "      <td>21590.0</td>\n",
       "    </tr>\n",
       "    <tr>\n",
       "      <th>3</th>\n",
       "      <td>Samsung</td>\n",
       "      <td>4</td>\n",
       "      <td>64</td>\n",
       "      <td>22499.0</td>\n",
       "    </tr>\n",
       "    <tr>\n",
       "      <th>4</th>\n",
       "      <td>Samsung</td>\n",
       "      <td>6</td>\n",
       "      <td>128</td>\n",
       "      <td>24999.0</td>\n",
       "    </tr>\n",
       "  </tbody>\n",
       "</table>\n",
       "</div>"
      ],
      "text/plain": [
       "     Title RAM Storage    Price\n",
       "0   Gionee   4      64  15880.0\n",
       "1   Gionee   6      64  15880.0\n",
       "2  Samsung   6     128  21590.0\n",
       "3  Samsung   4      64  22499.0\n",
       "4  Samsung   6     128  24999.0"
      ]
     },
     "execution_count": 32,
     "metadata": {},
     "output_type": "execute_result"
    }
   ],
   "source": [
    "df.head()"
   ]
  },
  {
   "cell_type": "code",
   "execution_count": null,
   "id": "1691dbd6",
   "metadata": {},
   "outputs": [],
   "source": []
  },
  {
   "cell_type": "code",
   "execution_count": 33,
   "id": "4352bb26",
   "metadata": {},
   "outputs": [
    {
     "data": {
      "image/png": "[encoded data removed]",
      "text/plain": [
       "<Figure size 720x576 with 1 Axes>"
      ]
     },
     "metadata": {
      "needs_background": "light"
     },
     "output_type": "display_data"
    }
   ],
   "source": [
    "plt.figure(figsize=(10,8))\n",
    "plt.xticks(rotation=\"vertical\")\n",
    "plt.title(\"Phone prices\")\n",
    "plt.grid(\"dark\")\n",
    "sns.barplot(x=df[\"Title\"],y=df[\"Price\"]);"
   ]
  },
  {
   "cell_type": "code",
   "execution_count": null,
   "id": "0e19d32d",
   "metadata": {},
   "outputs": [],
   "source": []
  },
  {
   "cell_type": "code",
   "execution_count": null,
   "id": "e0b2fc1a",
   "metadata": {},
   "outputs": [],
   "source": []
  },
  {
   "cell_type": "code",
   "execution_count": null,
   "id": "1a08de3e",
   "metadata": {},
   "outputs": [],
   "source": []
  },
  {
   "cell_type": "markdown",
   "id": "5804c8fe",
   "metadata": {},
   "source": [
    "# merging datasets"
   ]
  },
  {
   "cell_type": "code",
   "execution_count": 34,
   "id": "3e1b6dec",
   "metadata": {},
   "outputs": [],
   "source": [
    "df=pd.concat([df1,df2],ignore_index = True ,axis = 0)"
   ]
  },
  {
   "cell_type": "code",
   "execution_count": 35,
   "id": "e15d4400",
   "metadata": {},
   "outputs": [
    {
     "data": {
      "text/plain": [
       "RangeIndex(start=0, stop=2296, step=1)"
      ]
     },
     "execution_count": 35,
     "metadata": {},
     "output_type": "execute_result"
    }
   ],
   "source": [
    "df.index.unique()"
   ]
  },
  {
   "cell_type": "code",
   "execution_count": 36,
   "id": "6cb8cde2",
   "metadata": {},
   "outputs": [
    {
     "data": {
      "text/html": [
       "<div>\n",
       "<style scoped>\n",
       "    .dataframe tbody tr th:only-of-type {\n",
       "        vertical-align: middle;\n",
       "    }\n",
       "\n",
       "    .dataframe tbody tr th {\n",
       "        vertical-align: top;\n",
       "    }\n",
       "\n",
       "    .dataframe thead th {\n",
       "        text-align: right;\n",
       "    }\n",
       "</style>\n",
       "<table border=\"1\" class=\"dataframe\">\n",
       "  <thead>\n",
       "    <tr style=\"text-align: right;\">\n",
       "      <th></th>\n",
       "      <th>Phone Title</th>\n",
       "      <th>Specs</th>\n",
       "      <th>Price(Kshs)</th>\n",
       "      <th>Rating</th>\n",
       "      <th>Specs Score</th>\n",
       "      <th>Likes</th>\n",
       "    </tr>\n",
       "  </thead>\n",
       "  <tbody>\n",
       "    <tr>\n",
       "      <th>0</th>\n",
       "      <td>Gionee M7 Power</td>\n",
       "      <td>Screen:6.0 inches, 720 x 1440 pixels,Front Cam...</td>\n",
       "      <td>11,800</td>\n",
       "      <td>4.0</td>\n",
       "      <td>56%</td>\n",
       "      <td>13</td>\n",
       "    </tr>\n",
       "    <tr>\n",
       "      <th>1</th>\n",
       "      <td>Gionee M7</td>\n",
       "      <td>Screen:6.01 inches, 1080 x 2160 pixels,Front C...</td>\n",
       "      <td>7,999</td>\n",
       "      <td>4.5</td>\n",
       "      <td>69%</td>\n",
       "      <td>8</td>\n",
       "    </tr>\n",
       "    <tr>\n",
       "      <th>2</th>\n",
       "      <td>Samsung Galaxy M21 6GB128GB</td>\n",
       "      <td>Screen:6.4 inches, 1080 x 2340 pixels,Front Ca...</td>\n",
       "      <td>22,590</td>\n",
       "      <td>4.3</td>\n",
       "      <td>100%</td>\n",
       "      <td>30</td>\n",
       "    </tr>\n",
       "    <tr>\n",
       "      <th>3</th>\n",
       "      <td>Samsung Galaxy M21 4GB64GB</td>\n",
       "      <td>Screen:6.4 inches, 1080 x 2340 pixels,Front Ca...</td>\n",
       "      <td>22,499</td>\n",
       "      <td>3.8</td>\n",
       "      <td>94%</td>\n",
       "      <td>31</td>\n",
       "    </tr>\n",
       "    <tr>\n",
       "      <th>4</th>\n",
       "      <td>Samsung Galaxy A31 6GB128GB</td>\n",
       "      <td>Screen:6.4 inches, 1080 x 2400 pixels,Front Ca...</td>\n",
       "      <td>24,999</td>\n",
       "      <td>3.8</td>\n",
       "      <td>98%</td>\n",
       "      <td>31</td>\n",
       "    </tr>\n",
       "  </tbody>\n",
       "</table>\n",
       "</div>"
      ],
      "text/plain": [
       "                   Phone Title  \\\n",
       "0              Gionee M7 Power   \n",
       "1                    Gionee M7   \n",
       "2  Samsung Galaxy M21 6GB128GB   \n",
       "3   Samsung Galaxy M21 4GB64GB   \n",
       "4  Samsung Galaxy A31 6GB128GB   \n",
       "\n",
       "                                               Specs Price(Kshs)  Rating  \\\n",
       "0  Screen:6.0 inches, 720 x 1440 pixels,Front Cam...      11,800     4.0   \n",
       "1  Screen:6.01 inches, 1080 x 2160 pixels,Front C...       7,999     4.5   \n",
       "2  Screen:6.4 inches, 1080 x 2340 pixels,Front Ca...      22,590     4.3   \n",
       "3  Screen:6.4 inches, 1080 x 2340 pixels,Front Ca...      22,499     3.8   \n",
       "4  Screen:6.4 inches, 1080 x 2400 pixels,Front Ca...      24,999     3.8   \n",
       "\n",
       "  Specs Score  Likes  \n",
       "0         56%     13  \n",
       "1         69%      8  \n",
       "2        100%     30  \n",
       "3         94%     31  \n",
       "4         98%     31  "
      ]
     },
     "execution_count": 36,
     "metadata": {},
     "output_type": "execute_result"
    }
   ],
   "source": [
    "df.head()"
   ]
  },
  {
   "cell_type": "code",
   "execution_count": 37,
   "id": "3a9ecdba",
   "metadata": {
    "scrolled": true
   },
   "outputs": [
    {
     "data": {
      "text/plain": [
       "(2296, 6)"
      ]
     },
     "execution_count": 37,
     "metadata": {},
     "output_type": "execute_result"
    }
   ],
   "source": [
    "df.shape"
   ]
  },
  {
   "cell_type": "markdown",
   "id": "b19ae2c1",
   "metadata": {},
   "source": [
    "# DATA CLEANING"
   ]
  },
  {
   "cell_type": "markdown",
   "id": "54cc223d",
   "metadata": {},
   "source": [
    "# 1.a duplicates"
   ]
  },
  {
   "cell_type": "code",
   "execution_count": 38,
   "id": "36e810da",
   "metadata": {},
   "outputs": [
    {
     "data": {
      "text/plain": [
       "199"
      ]
     },
     "execution_count": 38,
     "metadata": {},
     "output_type": "execute_result"
    }
   ],
   "source": [
    "df.duplicated().sum()"
   ]
  },
  {
   "cell_type": "code",
   "execution_count": 39,
   "id": "51109a15",
   "metadata": {},
   "outputs": [],
   "source": [
    "df.drop_duplicates(keep=\"first\",inplace=True)"
   ]
  },
  {
   "cell_type": "code",
   "execution_count": 40,
   "id": "d67437d6",
   "metadata": {},
   "outputs": [
    {
     "data": {
      "text/plain": [
       "0"
      ]
     },
     "execution_count": 40,
     "metadata": {},
     "output_type": "execute_result"
    }
   ],
   "source": [
    "df.duplicated().sum()"
   ]
  },
  {
   "cell_type": "code",
   "execution_count": 41,
   "id": "0ddcd36f",
   "metadata": {},
   "outputs": [
    {
     "data": {
      "text/plain": [
       "(2097, 6)"
      ]
     },
     "execution_count": 41,
     "metadata": {},
     "output_type": "execute_result"
    }
   ],
   "source": [
    "df.shape"
   ]
  },
  {
   "cell_type": "markdown",
   "id": "6a87f828",
   "metadata": {},
   "source": [
    "# 1.b null values"
   ]
  },
  {
   "cell_type": "code",
   "execution_count": 42,
   "id": "6b78c2de",
   "metadata": {},
   "outputs": [
    {
     "data": {
      "text/plain": [
       "Phone Title      0\n",
       "Specs            0\n",
       "Price(Kshs)    158\n",
       "Rating           0\n",
       "Specs Score      0\n",
       "Likes            0\n",
       "dtype: int64"
      ]
     },
     "execution_count": 42,
     "metadata": {},
     "output_type": "execute_result"
    }
   ],
   "source": [
    "df.isnull().sum()"
   ]
  },
  {
   "cell_type": "code",
   "execution_count": 43,
   "id": "60f4cdb8",
   "metadata": {},
   "outputs": [],
   "source": [
    "df=df.dropna()"
   ]
  },
  {
   "cell_type": "code",
   "execution_count": 44,
   "id": "f2df1fd3",
   "metadata": {},
   "outputs": [
    {
     "data": {
      "text/plain": [
       "(1939, 6)"
      ]
     },
     "execution_count": 44,
     "metadata": {},
     "output_type": "execute_result"
    }
   ],
   "source": [
    "df.shape"
   ]
  },
  {
   "cell_type": "code",
   "execution_count": 45,
   "id": "bd7aed43",
   "metadata": {
    "scrolled": false
   },
   "outputs": [
    {
     "data": {
      "text/plain": [
       "Phone Title    0\n",
       "Specs          0\n",
       "Price(Kshs)    0\n",
       "Rating         0\n",
       "Specs Score    0\n",
       "Likes          0\n",
       "dtype: int64"
      ]
     },
     "execution_count": 45,
     "metadata": {},
     "output_type": "execute_result"
    }
   ],
   "source": [
    "df.isnull().sum()"
   ]
  },
  {
   "cell_type": "markdown",
   "id": "1e3c0b86",
   "metadata": {},
   "source": [
    "# 1.c converting columns to suitable datatypes"
   ]
  },
  {
   "cell_type": "code",
   "execution_count": 46,
   "id": "d639ce83",
   "metadata": {},
   "outputs": [
    {
     "data": {
      "text/plain": [
       "Phone Title     object\n",
       "Specs           object\n",
       "Price(Kshs)     object\n",
       "Rating         float64\n",
       "Specs Score     object\n",
       "Likes            int64\n",
       "dtype: object"
      ]
     },
     "execution_count": 46,
     "metadata": {},
     "output_type": "execute_result"
    }
   ],
   "source": [
    "df.dtypes"
   ]
  },
  {
   "cell_type": "code",
   "execution_count": 47,
   "id": "fde87745",
   "metadata": {},
   "outputs": [],
   "source": [
    "#most expensive phone"
   ]
  },
  {
   "cell_type": "code",
   "execution_count": 48,
   "id": "a9b4b8da",
   "metadata": {},
   "outputs": [],
   "source": [
    "##df.groupby([\"Phone Title\"])[\"Price(Kshs)\"].sum().sort_values(ascending=False)"
   ]
  },
  {
   "cell_type": "markdown",
   "id": "a90a1a22",
   "metadata": {},
   "source": [
    "# 1.d creating new columns"
   ]
  },
  {
   "cell_type": "code",
   "execution_count": 49,
   "id": "357edd2c",
   "metadata": {},
   "outputs": [
    {
     "data": {
      "text/plain": [
       "Index(['Phone Title', 'Specs', 'Price(Kshs)', 'Rating', 'Specs Score',\n",
       "       'Likes'],\n",
       "      dtype='object')"
      ]
     },
     "execution_count": 49,
     "metadata": {},
     "output_type": "execute_result"
    }
   ],
   "source": [
    "df.columns"
   ]
  },
  {
   "cell_type": "code",
   "execution_count": 50,
   "id": "429cc416",
   "metadata": {},
   "outputs": [
    {
     "data": {
      "text/plain": [
       "0       11,800\n",
       "1        7,999\n",
       "2       22,590\n",
       "3       22,499\n",
       "4       24,999\n",
       "         ...  \n",
       "2286    29,999\n",
       "2287    26,000\n",
       "2289    20,500\n",
       "2291     1,900\n",
       "2295     9,500\n",
       "Name: Price(Kshs), Length: 1939, dtype: object"
      ]
     },
     "execution_count": 50,
     "metadata": {},
     "output_type": "execute_result"
    }
   ],
   "source": [
    "df['Price(Kshs)']"
   ]
  },
  {
   "cell_type": "code",
   "execution_count": 51,
   "id": "9f511347",
   "metadata": {},
   "outputs": [],
   "source": [
    "df[\"Price\"]=df['Price(Kshs)'].str.replace(\",\",\"\")"
   ]
  },
  {
   "cell_type": "code",
   "execution_count": 52,
   "id": "1c6962fd",
   "metadata": {
    "scrolled": true
   },
   "outputs": [
    {
     "data": {
      "text/html": [
       "<div>\n",
       "<style scoped>\n",
       "    .dataframe tbody tr th:only-of-type {\n",
       "        vertical-align: middle;\n",
       "    }\n",
       "\n",
       "    .dataframe tbody tr th {\n",
       "        vertical-align: top;\n",
       "    }\n",
       "\n",
       "    .dataframe thead th {\n",
       "        text-align: right;\n",
       "    }\n",
       "</style>\n",
       "<table border=\"1\" class=\"dataframe\">\n",
       "  <thead>\n",
       "    <tr style=\"text-align: right;\">\n",
       "      <th></th>\n",
       "      <th>Phone Title</th>\n",
       "      <th>Specs</th>\n",
       "      <th>Price(Kshs)</th>\n",
       "      <th>Rating</th>\n",
       "      <th>Specs Score</th>\n",
       "      <th>Likes</th>\n",
       "      <th>Price</th>\n",
       "    </tr>\n",
       "  </thead>\n",
       "  <tbody>\n",
       "    <tr>\n",
       "      <th>0</th>\n",
       "      <td>Gionee M7 Power</td>\n",
       "      <td>Screen:6.0 inches, 720 x 1440 pixels,Front Cam...</td>\n",
       "      <td>11,800</td>\n",
       "      <td>4.0</td>\n",
       "      <td>56%</td>\n",
       "      <td>13</td>\n",
       "      <td>11800</td>\n",
       "    </tr>\n",
       "    <tr>\n",
       "      <th>1</th>\n",
       "      <td>Gionee M7</td>\n",
       "      <td>Screen:6.01 inches, 1080 x 2160 pixels,Front C...</td>\n",
       "      <td>7,999</td>\n",
       "      <td>4.5</td>\n",
       "      <td>69%</td>\n",
       "      <td>8</td>\n",
       "      <td>7999</td>\n",
       "    </tr>\n",
       "  </tbody>\n",
       "</table>\n",
       "</div>"
      ],
      "text/plain": [
       "       Phone Title                                              Specs  \\\n",
       "0  Gionee M7 Power  Screen:6.0 inches, 720 x 1440 pixels,Front Cam...   \n",
       "1        Gionee M7  Screen:6.01 inches, 1080 x 2160 pixels,Front C...   \n",
       "\n",
       "  Price(Kshs)  Rating Specs Score  Likes  Price  \n",
       "0      11,800     4.0         56%     13  11800  \n",
       "1       7,999     4.5         69%      8   7999  "
      ]
     },
     "execution_count": 52,
     "metadata": {},
     "output_type": "execute_result"
    }
   ],
   "source": [
    "df.head(2)"
   ]
  },
  {
   "cell_type": "code",
   "execution_count": 53,
   "id": "b884811f",
   "metadata": {
    "scrolled": true
   },
   "outputs": [
    {
     "data": {
      "text/plain": [
       "0       Screen:6.0 inches, 720 x 1440 pixels,Front Cam...\n",
       "1       Screen:6.01 inches, 1080 x 2160 pixels,Front C...\n",
       "2       Screen:6.4 inches, 1080 x 2340 pixels,Front Ca...\n",
       "3       Screen:6.4 inches, 1080 x 2340 pixels,Front Ca...\n",
       "4       Screen:6.4 inches, 1080 x 2400 pixels,Front Ca...\n",
       "                              ...                        \n",
       "2286    Screen:6.3 inches, 1080 x 2280 pixels,Front Ca...\n",
       "2287    Screen:6.3 inches, 1080 x 2280 pixels,Front Ca...\n",
       "2289    Screen:6.3 inches, 1080 x 2280 pixels,Front Ca...\n",
       "2291    Screen:1.77 inches, 120 x 160 pixels,Front Cam...\n",
       "2295    Screen:5.71 inches, 720 x 1520 pixels,Front Ca...\n",
       "Name: Specs, Length: 1939, dtype: object"
      ]
     },
     "execution_count": 53,
     "metadata": {},
     "output_type": "execute_result"
    }
   ],
   "source": [
    "df[\"Specs\"]"
   ]
  },
  {
   "cell_type": "code",
   "execution_count": 54,
   "id": "72bc06d9",
   "metadata": {},
   "outputs": [
    {
     "data": {
      "text/plain": [
       "'Screen:6.0 inches, 720 x 1440 pixels,Front Camera:8MP,OS:Android 7.1 Nougat,Storage:64GB,RAM:4GB,Battery:4000mAh, Li-Po'"
      ]
     },
     "execution_count": 54,
     "metadata": {},
     "output_type": "execute_result"
    }
   ],
   "source": [
    "df[\"Specs\"][0]"
   ]
  },
  {
   "cell_type": "code",
   "execution_count": 55,
   "id": "057e59b8",
   "metadata": {},
   "outputs": [],
   "source": [
    "df[\"RAM\"]=df[\"Specs\"].str.split(\",\").str.get(5).str.split(\":\").str.get(1).str.replace(\"GB\",\"\")"
   ]
  },
  {
   "cell_type": "code",
   "execution_count": 56,
   "id": "33646e74",
   "metadata": {},
   "outputs": [],
   "source": [
    "df[\"ROM\"]=df[\"Specs\"].str.split(\",\").str.get(4).str.split(\":\").str.get(1).str.replace(\"GB\",\"\")"
   ]
  },
  {
   "cell_type": "code",
   "execution_count": 57,
   "id": "45121888",
   "metadata": {},
   "outputs": [],
   "source": [
    "df[\"Inches\"]=df[\"Specs\"].str.split(\",\").str.get(0).str.split(\":\").str.get(1).str.split(\" \").str.get(0)"
   ]
  },
  {
   "cell_type": "code",
   "execution_count": 58,
   "id": "e857474c",
   "metadata": {},
   "outputs": [],
   "source": [
    "#df[\"Android\"]"
   ]
  },
  {
   "cell_type": "code",
   "execution_count": 59,
   "id": "070c3676",
   "metadata": {},
   "outputs": [],
   "source": [
    "#getting phone "
   ]
  },
  {
   "cell_type": "code",
   "execution_count": 60,
   "id": "ad8c73f8",
   "metadata": {},
   "outputs": [
    {
     "data": {
      "text/plain": [
       "0                   Gionee M7 Power\n",
       "1                         Gionee M7\n",
       "2       Samsung Galaxy M21 6GB128GB\n",
       "3        Samsung Galaxy M21 4GB64GB\n",
       "4       Samsung Galaxy A31 6GB128GB\n",
       "                   ...             \n",
       "2286            Nokia 7.2 6GB/128GB\n",
       "2287             Nokia 7.2 4GB/64GB\n",
       "2289             Nokia 6.2 4GB/64GB\n",
       "2291               Nokia 105 (2019)\n",
       "2295             Nokia 2.2 2GB/16GB\n",
       "Name: Phone Title, Length: 1939, dtype: object"
      ]
     },
     "execution_count": 60,
     "metadata": {},
     "output_type": "execute_result"
    }
   ],
   "source": [
    "df['Phone Title']"
   ]
  },
  {
   "cell_type": "code",
   "execution_count": 61,
   "id": "784e7944",
   "metadata": {
    "scrolled": true
   },
   "outputs": [],
   "source": [
    "##df['Phone Title'].str.replace('/','')"
   ]
  },
  {
   "cell_type": "code",
   "execution_count": 62,
   "id": "13b0929e",
   "metadata": {},
   "outputs": [],
   "source": [
    "df [\"Phone\"]=df['Phone Title'].str.split(' ').str.get(0)"
   ]
  },
  {
   "cell_type": "code",
   "execution_count": 63,
   "id": "3e13c878",
   "metadata": {},
   "outputs": [],
   "source": [
    "df[\"Specs Score(%)\"]=df[\"Specs Score\"].str.replace(\"%\",\"\")"
   ]
  },
  {
   "cell_type": "code",
   "execution_count": 64,
   "id": "af1aad94",
   "metadata": {},
   "outputs": [],
   "source": [
    "##df['Phone Title'].str.split('GB').str.get(0).str.get(-1)"
   ]
  },
  {
   "cell_type": "code",
   "execution_count": 65,
   "id": "5b3c7f53",
   "metadata": {
    "scrolled": false
   },
   "outputs": [
    {
     "data": {
      "text/html": [
       "<div>\n",
       "<style scoped>\n",
       "    .dataframe tbody tr th:only-of-type {\n",
       "        vertical-align: middle;\n",
       "    }\n",
       "\n",
       "    .dataframe tbody tr th {\n",
       "        vertical-align: top;\n",
       "    }\n",
       "\n",
       "    .dataframe thead th {\n",
       "        text-align: right;\n",
       "    }\n",
       "</style>\n",
       "<table border=\"1\" class=\"dataframe\">\n",
       "  <thead>\n",
       "    <tr style=\"text-align: right;\">\n",
       "      <th></th>\n",
       "      <th>Phone Title</th>\n",
       "      <th>Specs</th>\n",
       "      <th>Price(Kshs)</th>\n",
       "      <th>Rating</th>\n",
       "      <th>Specs Score</th>\n",
       "      <th>Likes</th>\n",
       "      <th>Price</th>\n",
       "      <th>RAM</th>\n",
       "      <th>ROM</th>\n",
       "      <th>Inches</th>\n",
       "      <th>Phone</th>\n",
       "      <th>Specs Score(%)</th>\n",
       "    </tr>\n",
       "  </thead>\n",
       "  <tbody>\n",
       "    <tr>\n",
       "      <th>0</th>\n",
       "      <td>Gionee M7 Power</td>\n",
       "      <td>Screen:6.0 inches, 720 x 1440 pixels,Front Cam...</td>\n",
       "      <td>11,800</td>\n",
       "      <td>4.0</td>\n",
       "      <td>56%</td>\n",
       "      <td>13</td>\n",
       "      <td>11800</td>\n",
       "      <td>4</td>\n",
       "      <td>64</td>\n",
       "      <td>6.0</td>\n",
       "      <td>Gionee</td>\n",
       "      <td>56</td>\n",
       "    </tr>\n",
       "    <tr>\n",
       "      <th>1</th>\n",
       "      <td>Gionee M7</td>\n",
       "      <td>Screen:6.01 inches, 1080 x 2160 pixels,Front C...</td>\n",
       "      <td>7,999</td>\n",
       "      <td>4.5</td>\n",
       "      <td>69%</td>\n",
       "      <td>8</td>\n",
       "      <td>7999</td>\n",
       "      <td>6</td>\n",
       "      <td>64</td>\n",
       "      <td>6.01</td>\n",
       "      <td>Gionee</td>\n",
       "      <td>69</td>\n",
       "    </tr>\n",
       "    <tr>\n",
       "      <th>2</th>\n",
       "      <td>Samsung Galaxy M21 6GB128GB</td>\n",
       "      <td>Screen:6.4 inches, 1080 x 2340 pixels,Front Ca...</td>\n",
       "      <td>22,590</td>\n",
       "      <td>4.3</td>\n",
       "      <td>100%</td>\n",
       "      <td>30</td>\n",
       "      <td>22590</td>\n",
       "      <td>6</td>\n",
       "      <td>128</td>\n",
       "      <td>6.4</td>\n",
       "      <td>Samsung</td>\n",
       "      <td>100</td>\n",
       "    </tr>\n",
       "    <tr>\n",
       "      <th>3</th>\n",
       "      <td>Samsung Galaxy M21 4GB64GB</td>\n",
       "      <td>Screen:6.4 inches, 1080 x 2340 pixels,Front Ca...</td>\n",
       "      <td>22,499</td>\n",
       "      <td>3.8</td>\n",
       "      <td>94%</td>\n",
       "      <td>31</td>\n",
       "      <td>22499</td>\n",
       "      <td>4</td>\n",
       "      <td>64</td>\n",
       "      <td>6.4</td>\n",
       "      <td>Samsung</td>\n",
       "      <td>94</td>\n",
       "    </tr>\n",
       "    <tr>\n",
       "      <th>4</th>\n",
       "      <td>Samsung Galaxy A31 6GB128GB</td>\n",
       "      <td>Screen:6.4 inches, 1080 x 2400 pixels,Front Ca...</td>\n",
       "      <td>24,999</td>\n",
       "      <td>3.8</td>\n",
       "      <td>98%</td>\n",
       "      <td>31</td>\n",
       "      <td>24999</td>\n",
       "      <td>6</td>\n",
       "      <td>128</td>\n",
       "      <td>6.4</td>\n",
       "      <td>Samsung</td>\n",
       "      <td>98</td>\n",
       "    </tr>\n",
       "  </tbody>\n",
       "</table>\n",
       "</div>"
      ],
      "text/plain": [
       "                   Phone Title  \\\n",
       "0              Gionee M7 Power   \n",
       "1                    Gionee M7   \n",
       "2  Samsung Galaxy M21 6GB128GB   \n",
       "3   Samsung Galaxy M21 4GB64GB   \n",
       "4  Samsung Galaxy A31 6GB128GB   \n",
       "\n",
       "                                               Specs Price(Kshs)  Rating  \\\n",
       "0  Screen:6.0 inches, 720 x 1440 pixels,Front Cam...      11,800     4.0   \n",
       "1  Screen:6.01 inches, 1080 x 2160 pixels,Front C...       7,999     4.5   \n",
       "2  Screen:6.4 inches, 1080 x 2340 pixels,Front Ca...      22,590     4.3   \n",
       "3  Screen:6.4 inches, 1080 x 2340 pixels,Front Ca...      22,499     3.8   \n",
       "4  Screen:6.4 inches, 1080 x 2400 pixels,Front Ca...      24,999     3.8   \n",
       "\n",
       "  Specs Score  Likes  Price RAM  ROM Inches    Phone Specs Score(%)  \n",
       "0         56%     13  11800   4   64    6.0   Gionee             56  \n",
       "1         69%      8   7999   6   64   6.01   Gionee             69  \n",
       "2        100%     30  22590   6  128    6.4  Samsung            100  \n",
       "3         94%     31  22499   4   64    6.4  Samsung             94  \n",
       "4         98%     31  24999   6  128    6.4  Samsung             98  "
      ]
     },
     "execution_count": 65,
     "metadata": {},
     "output_type": "execute_result"
    }
   ],
   "source": [
    "df.head()"
   ]
  },
  {
   "cell_type": "code",
   "execution_count": 66,
   "id": "7afb18ae",
   "metadata": {},
   "outputs": [],
   "source": [
    "#a= df[\"Price\"].max()"
   ]
  },
  {
   "cell_type": "code",
   "execution_count": 67,
   "id": "abfb8414",
   "metadata": {},
   "outputs": [],
   "source": [
    "#a"
   ]
  },
  {
   "cell_type": "code",
   "execution_count": 68,
   "id": "3b40d1ff",
   "metadata": {},
   "outputs": [],
   "source": [
    "#df[df[\"Price\"]==a]"
   ]
  },
  {
   "cell_type": "code",
   "execution_count": 69,
   "id": "3490277e",
   "metadata": {},
   "outputs": [],
   "source": [
    "#df[df[\"Price\"] == 9500]"
   ]
  },
  {
   "cell_type": "code",
   "execution_count": 70,
   "id": "1ab5f961",
   "metadata": {},
   "outputs": [],
   "source": [
    "#df[df[\"Phone Title\"] == \"Gionee M7\"]"
   ]
  },
  {
   "cell_type": "markdown",
   "id": "dfdfdd25",
   "metadata": {},
   "source": [
    "# 1.e droppping columns"
   ]
  },
  {
   "cell_type": "code",
   "execution_count": 71,
   "id": "e96a2d23",
   "metadata": {
    "scrolled": true
   },
   "outputs": [
    {
     "data": {
      "text/html": [
       "<div>\n",
       "<style scoped>\n",
       "    .dataframe tbody tr th:only-of-type {\n",
       "        vertical-align: middle;\n",
       "    }\n",
       "\n",
       "    .dataframe tbody tr th {\n",
       "        vertical-align: top;\n",
       "    }\n",
       "\n",
       "    .dataframe thead th {\n",
       "        text-align: right;\n",
       "    }\n",
       "</style>\n",
       "<table border=\"1\" class=\"dataframe\">\n",
       "  <thead>\n",
       "    <tr style=\"text-align: right;\">\n",
       "      <th></th>\n",
       "      <th>Phone Title</th>\n",
       "      <th>Specs</th>\n",
       "      <th>Price(Kshs)</th>\n",
       "      <th>Rating</th>\n",
       "      <th>Specs Score</th>\n",
       "      <th>Likes</th>\n",
       "      <th>Price</th>\n",
       "      <th>RAM</th>\n",
       "      <th>ROM</th>\n",
       "      <th>Inches</th>\n",
       "      <th>Phone</th>\n",
       "      <th>Specs Score(%)</th>\n",
       "    </tr>\n",
       "  </thead>\n",
       "  <tbody>\n",
       "    <tr>\n",
       "      <th>0</th>\n",
       "      <td>Gionee M7 Power</td>\n",
       "      <td>Screen:6.0 inches, 720 x 1440 pixels,Front Cam...</td>\n",
       "      <td>11,800</td>\n",
       "      <td>4.0</td>\n",
       "      <td>56%</td>\n",
       "      <td>13</td>\n",
       "      <td>11800</td>\n",
       "      <td>4</td>\n",
       "      <td>64</td>\n",
       "      <td>6.0</td>\n",
       "      <td>Gionee</td>\n",
       "      <td>56</td>\n",
       "    </tr>\n",
       "    <tr>\n",
       "      <th>1</th>\n",
       "      <td>Gionee M7</td>\n",
       "      <td>Screen:6.01 inches, 1080 x 2160 pixels,Front C...</td>\n",
       "      <td>7,999</td>\n",
       "      <td>4.5</td>\n",
       "      <td>69%</td>\n",
       "      <td>8</td>\n",
       "      <td>7999</td>\n",
       "      <td>6</td>\n",
       "      <td>64</td>\n",
       "      <td>6.01</td>\n",
       "      <td>Gionee</td>\n",
       "      <td>69</td>\n",
       "    </tr>\n",
       "  </tbody>\n",
       "</table>\n",
       "</div>"
      ],
      "text/plain": [
       "       Phone Title                                              Specs  \\\n",
       "0  Gionee M7 Power  Screen:6.0 inches, 720 x 1440 pixels,Front Cam...   \n",
       "1        Gionee M7  Screen:6.01 inches, 1080 x 2160 pixels,Front C...   \n",
       "\n",
       "  Price(Kshs)  Rating Specs Score  Likes  Price RAM ROM Inches   Phone  \\\n",
       "0      11,800     4.0         56%     13  11800   4  64    6.0  Gionee   \n",
       "1       7,999     4.5         69%      8   7999   6  64   6.01  Gionee   \n",
       "\n",
       "  Specs Score(%)  \n",
       "0             56  \n",
       "1             69  "
      ]
     },
     "execution_count": 71,
     "metadata": {},
     "output_type": "execute_result"
    }
   ],
   "source": [
    "df.head(2)"
   ]
  },
  {
   "cell_type": "code",
   "execution_count": 72,
   "id": "35e234a3",
   "metadata": {},
   "outputs": [],
   "source": [
    "df.drop(columns=[\"Phone Title\",\"Specs\",\"Price(Kshs)\",\"Specs Score\"],inplace=True)"
   ]
  },
  {
   "cell_type": "code",
   "execution_count": 73,
   "id": "70a948ab",
   "metadata": {},
   "outputs": [
    {
     "data": {
      "text/html": [
       "<div>\n",
       "<style scoped>\n",
       "    .dataframe tbody tr th:only-of-type {\n",
       "        vertical-align: middle;\n",
       "    }\n",
       "\n",
       "    .dataframe tbody tr th {\n",
       "        vertical-align: top;\n",
       "    }\n",
       "\n",
       "    .dataframe thead th {\n",
       "        text-align: right;\n",
       "    }\n",
       "</style>\n",
       "<table border=\"1\" class=\"dataframe\">\n",
       "  <thead>\n",
       "    <tr style=\"text-align: right;\">\n",
       "      <th></th>\n",
       "      <th>Rating</th>\n",
       "      <th>Likes</th>\n",
       "      <th>Price</th>\n",
       "      <th>RAM</th>\n",
       "      <th>ROM</th>\n",
       "      <th>Inches</th>\n",
       "      <th>Phone</th>\n",
       "      <th>Specs Score(%)</th>\n",
       "    </tr>\n",
       "  </thead>\n",
       "  <tbody>\n",
       "    <tr>\n",
       "      <th>0</th>\n",
       "      <td>4.0</td>\n",
       "      <td>13</td>\n",
       "      <td>11800</td>\n",
       "      <td>4</td>\n",
       "      <td>64</td>\n",
       "      <td>6.0</td>\n",
       "      <td>Gionee</td>\n",
       "      <td>56</td>\n",
       "    </tr>\n",
       "    <tr>\n",
       "      <th>1</th>\n",
       "      <td>4.5</td>\n",
       "      <td>8</td>\n",
       "      <td>7999</td>\n",
       "      <td>6</td>\n",
       "      <td>64</td>\n",
       "      <td>6.01</td>\n",
       "      <td>Gionee</td>\n",
       "      <td>69</td>\n",
       "    </tr>\n",
       "  </tbody>\n",
       "</table>\n",
       "</div>"
      ],
      "text/plain": [
       "   Rating  Likes  Price RAM ROM Inches   Phone Specs Score(%)\n",
       "0     4.0     13  11800   4  64    6.0  Gionee             56\n",
       "1     4.5      8   7999   6  64   6.01  Gionee             69"
      ]
     },
     "execution_count": 73,
     "metadata": {},
     "output_type": "execute_result"
    }
   ],
   "source": [
    "df.head(2)"
   ]
  },
  {
   "cell_type": "code",
   "execution_count": 74,
   "id": "16ef2d3b",
   "metadata": {},
   "outputs": [
    {
     "data": {
      "text/plain": [
       "Rating            float64\n",
       "Likes               int64\n",
       "Price              object\n",
       "RAM                object\n",
       "ROM                object\n",
       "Inches             object\n",
       "Phone              object\n",
       "Specs Score(%)     object\n",
       "dtype: object"
      ]
     },
     "execution_count": 74,
     "metadata": {},
     "output_type": "execute_result"
    }
   ],
   "source": [
    "df.dtypes"
   ]
  },
  {
   "cell_type": "markdown",
   "id": "7a7bca54",
   "metadata": {},
   "source": [
    "# 1.f changing dtypes"
   ]
  },
  {
   "cell_type": "code",
   "execution_count": 75,
   "id": "eb06a6f5",
   "metadata": {},
   "outputs": [],
   "source": [
    "df[\"Price\"]=df[\"Price\"].astype(float)"
   ]
  },
  {
   "cell_type": "code",
   "execution_count": 76,
   "id": "00756a40",
   "metadata": {},
   "outputs": [],
   "source": [
    "#df[\"RAM\"]=df[\"RAM\"].astype(int)"
   ]
  },
  {
   "cell_type": "code",
   "execution_count": 77,
   "id": "c40624a1",
   "metadata": {},
   "outputs": [
    {
     "data": {
      "text/plain": [
       "128                           425\n",
       "64                            390\n",
       "32                            288\n",
       "16                            147\n",
       "256                           125\n",
       "16                            108\n",
       "32                             98\n",
       "64                             69\n",
       "8                              40\n",
       "128                            34\n",
       "512                            20\n",
       "8                              19\n",
       "Android 9.0 Pie                17\n",
       "Android 10; MIUI 11            16\n",
       "Android 10; ColorOS            12\n",
       "Android 10; Realme UI          12\n",
       "256                             9\n",
       "Android 10.0; Magic UI 3        8\n",
       "Android 10; Realme UI 1.0       8\n",
       "Android 8.1 Oreo                7\n",
       "Android 10.0; MIUI 11           6\n",
       "-                               6\n",
       "Android 10.0; OxygenOS          6\n",
       "10MP                            5\n",
       "Android 6.0 Marshmallow         4\n",
       "0.5                             4\n",
       "11MP                            4\n",
       "Android 10; Magic UI 3.1        2\n",
       " 6.2                            2\n",
       "Android 10; HiOS                2\n",
       "4                               2\n",
       "Android 10                      2\n",
       "Android 8.0 Oreo                2\n",
       "Android 8.1 Oreo; MIUI 9.0      2\n",
       "Android 10; EMUI 10             2\n",
       "Android 10; XOS                 2\n",
       "8MB                             2\n",
       "64MB                            1\n",
       "32MB                            1\n",
       "1                               1\n",
       "Name: ROM, dtype: int64"
      ]
     },
     "execution_count": 77,
     "metadata": {},
     "output_type": "execute_result"
    }
   ],
   "source": [
    "df[\"ROM\"].value_counts()"
   ]
  },
  {
   "cell_type": "code",
   "execution_count": 78,
   "id": "f3060cf5",
   "metadata": {},
   "outputs": [
    {
     "data": {
      "text/plain": [
       "array([False,  True])"
      ]
     },
     "execution_count": 78,
     "metadata": {},
     "output_type": "execute_result"
    }
   ],
   "source": [
    "(df[\"ROM\"]=='Android 10').unique()"
   ]
  },
  {
   "cell_type": "code",
   "execution_count": 79,
   "id": "7fe3c1f2",
   "metadata": {},
   "outputs": [],
   "source": [
    "a=(df[\"ROM\"]=='Android 10') & (df[\"ROM\"]==\"Android 9.0 Pie\") & (df[\"ROM\"]==\"Android 10; MIUI 11\") & (df[\"ROM\"]==\"Android 10; ColorOS\") & (df[\"ROM\"]==\"Android 10; Realme UI\") & (df[\"ROM\"]==\"Android 10.0; Magic UI 3\") & (df[\"ROM\"]==\"Android 10; Realme UI 1.0\") & (df[\"ROM\"]==\"Android 8.1 Oreo\") & (df[\"ROM\"]==\"Android 10.0; MIUI 11\") &  (df[\"ROM\"]==\"-\") & (df[\"ROM\"]==\"Android 10.0; OxygenOS\") & (df[\"ROM\"]==\"10MP\") & (df[\"ROM\"]==\"Android 6.0 Marshmallow\") & (df[\"ROM\"]==\"11MP\") & (df[\"ROM\"]==\"Android 10; Magic UI 3.1\") & (df[\"ROM\"]==\"Android 10; HiOS\") & (df[\"ROM\"]==\"Android 10\") & (df[\"ROM\"]==\"Android 8.0 Oreo\") & (df[\"ROM\"]==\"Android 8.1 Oreo; MIUI 9.0\") & (df[\"ROM\"]==\"Android 10; EMUI 10\") & (df[\"ROM\"]==\"Android 10; XOS\")"
   ]
  },
  {
   "cell_type": "code",
   "execution_count": 80,
   "id": "a3806510",
   "metadata": {},
   "outputs": [
    {
     "data": {
      "text/plain": [
       "array([False])"
      ]
     },
     "execution_count": 80,
     "metadata": {},
     "output_type": "execute_result"
    }
   ],
   "source": [
    "a.unique()\n"
   ]
  },
  {
   "cell_type": "code",
   "execution_count": 81,
   "id": "40b4ed86",
   "metadata": {},
   "outputs": [],
   "source": [
    "#df[\"ROM\"]=df[\"ROM\"].astype(int)"
   ]
  },
  {
   "cell_type": "code",
   "execution_count": 82,
   "id": "9b7f650d",
   "metadata": {},
   "outputs": [],
   "source": [
    "df[\"Inches\"]=df[\"Inches\"].astype(float)"
   ]
  },
  {
   "cell_type": "code",
   "execution_count": 83,
   "id": "26c0c725",
   "metadata": {},
   "outputs": [],
   "source": [
    "df[\"Specs Score(%)\"]=df[\"Specs Score(%)\"].astype(float)"
   ]
  },
  {
   "cell_type": "markdown",
   "id": "c0e97969",
   "metadata": {},
   "source": [
    "# VISUALIZATION"
   ]
  },
  {
   "cell_type": "code",
   "execution_count": 84,
   "id": "e67e8090",
   "metadata": {},
   "outputs": [
    {
     "data": {
      "text/html": [
       "<div>\n",
       "<style scoped>\n",
       "    .dataframe tbody tr th:only-of-type {\n",
       "        vertical-align: middle;\n",
       "    }\n",
       "\n",
       "    .dataframe tbody tr th {\n",
       "        vertical-align: top;\n",
       "    }\n",
       "\n",
       "    .dataframe thead th {\n",
       "        text-align: right;\n",
       "    }\n",
       "</style>\n",
       "<table border=\"1\" class=\"dataframe\">\n",
       "  <thead>\n",
       "    <tr style=\"text-align: right;\">\n",
       "      <th></th>\n",
       "      <th>Rating</th>\n",
       "      <th>Likes</th>\n",
       "      <th>Price</th>\n",
       "      <th>RAM</th>\n",
       "      <th>ROM</th>\n",
       "      <th>Inches</th>\n",
       "      <th>Phone</th>\n",
       "      <th>Specs Score(%)</th>\n",
       "    </tr>\n",
       "  </thead>\n",
       "  <tbody>\n",
       "    <tr>\n",
       "      <th>0</th>\n",
       "      <td>4.0</td>\n",
       "      <td>13</td>\n",
       "      <td>11800.0</td>\n",
       "      <td>4</td>\n",
       "      <td>64</td>\n",
       "      <td>6.00</td>\n",
       "      <td>Gionee</td>\n",
       "      <td>56.0</td>\n",
       "    </tr>\n",
       "    <tr>\n",
       "      <th>1</th>\n",
       "      <td>4.5</td>\n",
       "      <td>8</td>\n",
       "      <td>7999.0</td>\n",
       "      <td>6</td>\n",
       "      <td>64</td>\n",
       "      <td>6.01</td>\n",
       "      <td>Gionee</td>\n",
       "      <td>69.0</td>\n",
       "    </tr>\n",
       "    <tr>\n",
       "      <th>2</th>\n",
       "      <td>4.3</td>\n",
       "      <td>30</td>\n",
       "      <td>22590.0</td>\n",
       "      <td>6</td>\n",
       "      <td>128</td>\n",
       "      <td>6.40</td>\n",
       "      <td>Samsung</td>\n",
       "      <td>100.0</td>\n",
       "    </tr>\n",
       "    <tr>\n",
       "      <th>3</th>\n",
       "      <td>3.8</td>\n",
       "      <td>31</td>\n",
       "      <td>22499.0</td>\n",
       "      <td>4</td>\n",
       "      <td>64</td>\n",
       "      <td>6.40</td>\n",
       "      <td>Samsung</td>\n",
       "      <td>94.0</td>\n",
       "    </tr>\n",
       "    <tr>\n",
       "      <th>4</th>\n",
       "      <td>3.8</td>\n",
       "      <td>31</td>\n",
       "      <td>24999.0</td>\n",
       "      <td>6</td>\n",
       "      <td>128</td>\n",
       "      <td>6.40</td>\n",
       "      <td>Samsung</td>\n",
       "      <td>98.0</td>\n",
       "    </tr>\n",
       "  </tbody>\n",
       "</table>\n",
       "</div>"
      ],
      "text/plain": [
       "   Rating  Likes    Price RAM  ROM  Inches    Phone  Specs Score(%)\n",
       "0     4.0     13  11800.0   4   64    6.00   Gionee            56.0\n",
       "1     4.5      8   7999.0   6   64    6.01   Gionee            69.0\n",
       "2     4.3     30  22590.0   6  128    6.40  Samsung           100.0\n",
       "3     3.8     31  22499.0   4   64    6.40  Samsung            94.0\n",
       "4     3.8     31  24999.0   6  128    6.40  Samsung            98.0"
      ]
     },
     "execution_count": 84,
     "metadata": {},
     "output_type": "execute_result"
    }
   ],
   "source": [
    "df.head()"
   ]
  },
  {
   "cell_type": "code",
   "execution_count": 85,
   "id": "a7a7f09f",
   "metadata": {},
   "outputs": [],
   "source": [
    "#data correlation "
   ]
  },
  {
   "cell_type": "code",
   "execution_count": 86,
   "id": "079e610d",
   "metadata": {},
   "outputs": [],
   "source": [
    "#sns.heatmap(data=df, annot=True)"
   ]
  },
  {
   "cell_type": "code",
   "execution_count": 87,
   "id": "126f16bf",
   "metadata": {},
   "outputs": [],
   "source": [
    "#most and least expensive phones"
   ]
  },
  {
   "cell_type": "code",
   "execution_count": 88,
   "id": "bbf29f3b",
   "metadata": {},
   "outputs": [
    {
     "data": {
      "text/html": [
       "<div>\n",
       "<style scoped>\n",
       "    .dataframe tbody tr th:only-of-type {\n",
       "        vertical-align: middle;\n",
       "    }\n",
       "\n",
       "    .dataframe tbody tr th {\n",
       "        vertical-align: top;\n",
       "    }\n",
       "\n",
       "    .dataframe thead th {\n",
       "        text-align: right;\n",
       "    }\n",
       "</style>\n",
       "<table border=\"1\" class=\"dataframe\">\n",
       "  <thead>\n",
       "    <tr style=\"text-align: right;\">\n",
       "      <th></th>\n",
       "      <th>Rating</th>\n",
       "      <th>Likes</th>\n",
       "      <th>Price</th>\n",
       "      <th>Inches</th>\n",
       "      <th>Specs Score(%)</th>\n",
       "    </tr>\n",
       "    <tr>\n",
       "      <th>Phone</th>\n",
       "      <th></th>\n",
       "      <th></th>\n",
       "      <th></th>\n",
       "      <th></th>\n",
       "      <th></th>\n",
       "    </tr>\n",
       "  </thead>\n",
       "  <tbody>\n",
       "    <tr>\n",
       "      <th>Apple</th>\n",
       "      <td>174.9</td>\n",
       "      <td>1798</td>\n",
       "      <td>3033375.0</td>\n",
       "      <td>261.00</td>\n",
       "      <td>2185.0</td>\n",
       "    </tr>\n",
       "    <tr>\n",
       "      <th>BlackBerry</th>\n",
       "      <td>100.6</td>\n",
       "      <td>371</td>\n",
       "      <td>401416.0</td>\n",
       "      <td>134.36</td>\n",
       "      <td>1516.0</td>\n",
       "    </tr>\n",
       "    <tr>\n",
       "      <th>Cubot</th>\n",
       "      <td>39.0</td>\n",
       "      <td>126</td>\n",
       "      <td>307220.0</td>\n",
       "      <td>64.00</td>\n",
       "      <td>514.0</td>\n",
       "    </tr>\n",
       "    <tr>\n",
       "      <th>Energizer</th>\n",
       "      <td>20.0</td>\n",
       "      <td>11</td>\n",
       "      <td>24298.0</td>\n",
       "      <td>9.20</td>\n",
       "      <td>336.0</td>\n",
       "    </tr>\n",
       "    <tr>\n",
       "      <th>Gionee</th>\n",
       "      <td>17.0</td>\n",
       "      <td>42</td>\n",
       "      <td>51559.0</td>\n",
       "      <td>24.02</td>\n",
       "      <td>250.0</td>\n",
       "    </tr>\n",
       "    <tr>\n",
       "      <th>Google</th>\n",
       "      <td>140.8</td>\n",
       "      <td>350</td>\n",
       "      <td>1386107.0</td>\n",
       "      <td>192.42</td>\n",
       "      <td>2138.0</td>\n",
       "    </tr>\n",
       "    <tr>\n",
       "      <th>HTC</th>\n",
       "      <td>255.2</td>\n",
       "      <td>775</td>\n",
       "      <td>1079376.0</td>\n",
       "      <td>386.00</td>\n",
       "      <td>3954.0</td>\n",
       "    </tr>\n",
       "    <tr>\n",
       "      <th>Honor</th>\n",
       "      <td>99.0</td>\n",
       "      <td>76</td>\n",
       "      <td>576512.0</td>\n",
       "      <td>142.92</td>\n",
       "      <td>1910.0</td>\n",
       "    </tr>\n",
       "    <tr>\n",
       "      <th>Hotwav</th>\n",
       "      <td>16.7</td>\n",
       "      <td>110</td>\n",
       "      <td>26562.0</td>\n",
       "      <td>25.70</td>\n",
       "      <td>245.0</td>\n",
       "    </tr>\n",
       "    <tr>\n",
       "      <th>Huawei</th>\n",
       "      <td>1067.5</td>\n",
       "      <td>5857</td>\n",
       "      <td>4794038.0</td>\n",
       "      <td>1641.18</td>\n",
       "      <td>19322.0</td>\n",
       "    </tr>\n",
       "    <tr>\n",
       "      <th>Infinix</th>\n",
       "      <td>463.2</td>\n",
       "      <td>4085</td>\n",
       "      <td>1236327.0</td>\n",
       "      <td>747.46</td>\n",
       "      <td>7062.0</td>\n",
       "    </tr>\n",
       "    <tr>\n",
       "      <th>LG</th>\n",
       "      <td>211.4</td>\n",
       "      <td>456</td>\n",
       "      <td>867071.0</td>\n",
       "      <td>315.28</td>\n",
       "      <td>3345.0</td>\n",
       "    </tr>\n",
       "    <tr>\n",
       "      <th>Lava</th>\n",
       "      <td>29.5</td>\n",
       "      <td>91</td>\n",
       "      <td>43000.0</td>\n",
       "      <td>32.30</td>\n",
       "      <td>182.0</td>\n",
       "    </tr>\n",
       "    <tr>\n",
       "      <th>Lenovo</th>\n",
       "      <td>175.5</td>\n",
       "      <td>436</td>\n",
       "      <td>554224.0</td>\n",
       "      <td>260.52</td>\n",
       "      <td>2949.0</td>\n",
       "    </tr>\n",
       "    <tr>\n",
       "      <th>Microsoft</th>\n",
       "      <td>20.0</td>\n",
       "      <td>16</td>\n",
       "      <td>46695.0</td>\n",
       "      <td>32.40</td>\n",
       "      <td>298.0</td>\n",
       "    </tr>\n",
       "    <tr>\n",
       "      <th>Motorola</th>\n",
       "      <td>116.2</td>\n",
       "      <td>288</td>\n",
       "      <td>388627.0</td>\n",
       "      <td>186.70</td>\n",
       "      <td>1865.0</td>\n",
       "    </tr>\n",
       "    <tr>\n",
       "      <th>Nokia</th>\n",
       "      <td>328.8</td>\n",
       "      <td>2862</td>\n",
       "      <td>1005520.0</td>\n",
       "      <td>460.89</td>\n",
       "      <td>4236.0</td>\n",
       "    </tr>\n",
       "    <tr>\n",
       "      <th>OnePlus</th>\n",
       "      <td>219.1</td>\n",
       "      <td>917</td>\n",
       "      <td>1973742.0</td>\n",
       "      <td>303.92</td>\n",
       "      <td>4315.0</td>\n",
       "    </tr>\n",
       "    <tr>\n",
       "      <th>Oppo</th>\n",
       "      <td>549.8</td>\n",
       "      <td>4951</td>\n",
       "      <td>2325243.0</td>\n",
       "      <td>907.21</td>\n",
       "      <td>11832.0</td>\n",
       "    </tr>\n",
       "    <tr>\n",
       "      <th>Realme</th>\n",
       "      <td>474.8</td>\n",
       "      <td>620</td>\n",
       "      <td>1229340.0</td>\n",
       "      <td>675.52</td>\n",
       "      <td>8866.0</td>\n",
       "    </tr>\n",
       "    <tr>\n",
       "      <th>Samsung</th>\n",
       "      <td>1292.5</td>\n",
       "      <td>11841</td>\n",
       "      <td>7474685.0</td>\n",
       "      <td>2073.44</td>\n",
       "      <td>23576.0</td>\n",
       "    </tr>\n",
       "    <tr>\n",
       "      <th>Sony</th>\n",
       "      <td>160.2</td>\n",
       "      <td>415</td>\n",
       "      <td>460076.0</td>\n",
       "      <td>230.76</td>\n",
       "      <td>2445.0</td>\n",
       "    </tr>\n",
       "    <tr>\n",
       "      <th>Tecno</th>\n",
       "      <td>497.6</td>\n",
       "      <td>8516</td>\n",
       "      <td>1463022.0</td>\n",
       "      <td>792.53</td>\n",
       "      <td>6750.0</td>\n",
       "    </tr>\n",
       "    <tr>\n",
       "      <th>Vivo</th>\n",
       "      <td>39.9</td>\n",
       "      <td>274</td>\n",
       "      <td>254491.0</td>\n",
       "      <td>70.30</td>\n",
       "      <td>749.0</td>\n",
       "    </tr>\n",
       "    <tr>\n",
       "      <th>Xiaomi</th>\n",
       "      <td>1114.8</td>\n",
       "      <td>2659</td>\n",
       "      <td>7084968.0</td>\n",
       "      <td>1649.00</td>\n",
       "      <td>21662.0</td>\n",
       "    </tr>\n",
       "  </tbody>\n",
       "</table>\n",
       "</div>"
      ],
      "text/plain": [
       "            Rating  Likes      Price   Inches  Specs Score(%)\n",
       "Phone                                                        \n",
       "Apple        174.9   1798  3033375.0   261.00          2185.0\n",
       "BlackBerry   100.6    371   401416.0   134.36          1516.0\n",
       "Cubot         39.0    126   307220.0    64.00           514.0\n",
       "Energizer     20.0     11    24298.0     9.20           336.0\n",
       "Gionee        17.0     42    51559.0    24.02           250.0\n",
       "Google       140.8    350  1386107.0   192.42          2138.0\n",
       "HTC          255.2    775  1079376.0   386.00          3954.0\n",
       "Honor         99.0     76   576512.0   142.92          1910.0\n",
       "Hotwav        16.7    110    26562.0    25.70           245.0\n",
       "Huawei      1067.5   5857  4794038.0  1641.18         19322.0\n",
       "Infinix      463.2   4085  1236327.0   747.46          7062.0\n",
       "LG           211.4    456   867071.0   315.28          3345.0\n",
       "Lava          29.5     91    43000.0    32.30           182.0\n",
       "Lenovo       175.5    436   554224.0   260.52          2949.0\n",
       "Microsoft     20.0     16    46695.0    32.40           298.0\n",
       "Motorola     116.2    288   388627.0   186.70          1865.0\n",
       "Nokia        328.8   2862  1005520.0   460.89          4236.0\n",
       "OnePlus      219.1    917  1973742.0   303.92          4315.0\n",
       "Oppo         549.8   4951  2325243.0   907.21         11832.0\n",
       "Realme       474.8    620  1229340.0   675.52          8866.0\n",
       "Samsung     1292.5  11841  7474685.0  2073.44         23576.0\n",
       "Sony         160.2    415   460076.0   230.76          2445.0\n",
       "Tecno        497.6   8516  1463022.0   792.53          6750.0\n",
       "Vivo          39.9    274   254491.0    70.30           749.0\n",
       "Xiaomi      1114.8   2659  7084968.0  1649.00         21662.0"
      ]
     },
     "execution_count": 88,
     "metadata": {},
     "output_type": "execute_result"
    }
   ],
   "source": [
    "df.groupby('Phone').sum()"
   ]
  },
  {
   "cell_type": "code",
   "execution_count": 89,
   "id": "2993f626",
   "metadata": {},
   "outputs": [
    {
     "data": {
      "image/png": "[encoded data removed]",
      "text/plain": [
       "<Figure size 720x576 with 1 Axes>"
      ]
     },
     "metadata": {
      "needs_background": "light"
     },
     "output_type": "display_data"
    }
   ],
   "source": [
    "#df.groupby('Phone')['Price'].sum().sort_values()\n",
    "plt.figure(figsize=(10,8))\n",
    "plt.xticks(rotation=\"vertical\")\n",
    "plt.title(\"Phone prices\")\n",
    "sns.barplot(x=df[\"Phone\"],y=df[\"Price\"]);"
   ]
  },
  {
   "cell_type": "code",
   "execution_count": 90,
   "id": "bb01385b",
   "metadata": {},
   "outputs": [],
   "source": [
    "#phone spec percentages"
   ]
  },
  {
   "cell_type": "code",
   "execution_count": 91,
   "id": "aaecbd30",
   "metadata": {},
   "outputs": [
    {
     "data": {
      "image/png": "[encoded data removed]",
      "text/plain": [
       "<Figure size 720x576 with 1 Axes>"
      ]
     },
     "metadata": {
      "needs_background": "light"
     },
     "output_type": "display_data"
    }
   ],
   "source": [
    "plt.figure(figsize=(10,8))\n",
    "plt.xticks(rotation=\"vertical\")\n",
    "sns.barplot(x=df[\"Phone\"],y=df[\"Specs Score(%)\"]);"
   ]
  },
  {
   "cell_type": "raw",
   "id": "8b0d3a7d",
   "metadata": {},
   "source": []
  }
 ],
 "metadata": {
  "kernelspec": {
   "display_name": "Python 3 (ipykernel)",
   "language": "python",
   "name": "python3"
  },
  "language_info": {
   "codemirror_mode": {
    "name": "ipython",
    "version": 3
   },
   "file_extension": ".py",
   "mimetype": "text/x-python",
   "name": "python",
   "nbconvert_exporter": "python",
   "pygments_lexer": "ipython3",
   "version": "3.9.12"
  }
 },
 "nbformat": 4,
 "nbformat_minor": 5
}
